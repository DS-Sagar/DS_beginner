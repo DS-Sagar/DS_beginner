{
 "cells": [
  {
   "cell_type": "markdown",
   "metadata": {},
   "source": [
    "### Reading delimited and relational Database "
   ]
  },
  {
   "cell_type": "markdown",
   "metadata": {},
   "source": [
    "-  Delimited files are usually text files, where column are seperated by the delimiter(such as comma, tab, semicolon etc.)\n",
    "-  Way to read the delimited file using the `pd.read(filepath, sep, header)` and specify the separator(delimiter)."
   ]
  },
  {
   "cell_type": "code",
   "execution_count": 12,
   "metadata": {},
   "outputs": [
    {
     "ename": "ParserError",
     "evalue": "Error tokenizing data. C error: Expected 1 fields in line 4, saw 2\n",
     "output_type": "error",
     "traceback": [
      "\u001b[1;31m---------------------------------------------------------------------------\u001b[0m",
      "\u001b[1;31mParserError\u001b[0m                               Traceback (most recent call last)",
      "\u001b[1;32m<ipython-input-12-59e6818bd0c1>\u001b[0m in \u001b[0;36m<module>\u001b[1;34m\u001b[0m\n\u001b[0;32m      4\u001b[0m \u001b[0mpath\u001b[0m \u001b[1;33m=\u001b[0m \u001b[1;34mr\"C:\\Users\\HP\\Upgard Preparatory Notes\\Python for Data Science\\Reference Data from Upgrad\\companies.txt\"\u001b[0m\u001b[1;33m\u001b[0m\u001b[1;33m\u001b[0m\u001b[0m\n\u001b[0;32m      5\u001b[0m \u001b[1;33m\u001b[0m\u001b[0m\n\u001b[1;32m----> 6\u001b[1;33m \u001b[0mdf\u001b[0m \u001b[1;33m=\u001b[0m \u001b[0mpd\u001b[0m\u001b[1;33m.\u001b[0m\u001b[0mread_csv\u001b[0m\u001b[1;33m(\u001b[0m\u001b[0mpath\u001b[0m\u001b[1;33m)\u001b[0m\u001b[1;33m\u001b[0m\u001b[1;33m\u001b[0m\u001b[0m\n\u001b[0m",
      "\u001b[1;32mC:\\Users\\HP\\Anaconda3\\lib\\site-packages\\pandas\\io\\parsers.py\u001b[0m in \u001b[0;36mparser_f\u001b[1;34m(filepath_or_buffer, sep, delimiter, header, names, index_col, usecols, squeeze, prefix, mangle_dupe_cols, dtype, engine, converters, true_values, false_values, skipinitialspace, skiprows, skipfooter, nrows, na_values, keep_default_na, na_filter, verbose, skip_blank_lines, parse_dates, infer_datetime_format, keep_date_col, date_parser, dayfirst, iterator, chunksize, compression, thousands, decimal, lineterminator, quotechar, quoting, doublequote, escapechar, comment, encoding, dialect, tupleize_cols, error_bad_lines, warn_bad_lines, delim_whitespace, low_memory, memory_map, float_precision)\u001b[0m\n\u001b[0;32m    700\u001b[0m                     skip_blank_lines=skip_blank_lines)\n\u001b[0;32m    701\u001b[0m \u001b[1;33m\u001b[0m\u001b[0m\n\u001b[1;32m--> 702\u001b[1;33m         \u001b[1;32mreturn\u001b[0m \u001b[0m_read\u001b[0m\u001b[1;33m(\u001b[0m\u001b[0mfilepath_or_buffer\u001b[0m\u001b[1;33m,\u001b[0m \u001b[0mkwds\u001b[0m\u001b[1;33m)\u001b[0m\u001b[1;33m\u001b[0m\u001b[1;33m\u001b[0m\u001b[0m\n\u001b[0m\u001b[0;32m    703\u001b[0m \u001b[1;33m\u001b[0m\u001b[0m\n\u001b[0;32m    704\u001b[0m     \u001b[0mparser_f\u001b[0m\u001b[1;33m.\u001b[0m\u001b[0m__name__\u001b[0m \u001b[1;33m=\u001b[0m \u001b[0mname\u001b[0m\u001b[1;33m\u001b[0m\u001b[1;33m\u001b[0m\u001b[0m\n",
      "\u001b[1;32mC:\\Users\\HP\\Anaconda3\\lib\\site-packages\\pandas\\io\\parsers.py\u001b[0m in \u001b[0;36m_read\u001b[1;34m(filepath_or_buffer, kwds)\u001b[0m\n\u001b[0;32m    433\u001b[0m \u001b[1;33m\u001b[0m\u001b[0m\n\u001b[0;32m    434\u001b[0m     \u001b[1;32mtry\u001b[0m\u001b[1;33m:\u001b[0m\u001b[1;33m\u001b[0m\u001b[1;33m\u001b[0m\u001b[0m\n\u001b[1;32m--> 435\u001b[1;33m         \u001b[0mdata\u001b[0m \u001b[1;33m=\u001b[0m \u001b[0mparser\u001b[0m\u001b[1;33m.\u001b[0m\u001b[0mread\u001b[0m\u001b[1;33m(\u001b[0m\u001b[0mnrows\u001b[0m\u001b[1;33m)\u001b[0m\u001b[1;33m\u001b[0m\u001b[1;33m\u001b[0m\u001b[0m\n\u001b[0m\u001b[0;32m    436\u001b[0m     \u001b[1;32mfinally\u001b[0m\u001b[1;33m:\u001b[0m\u001b[1;33m\u001b[0m\u001b[1;33m\u001b[0m\u001b[0m\n\u001b[0;32m    437\u001b[0m         \u001b[0mparser\u001b[0m\u001b[1;33m.\u001b[0m\u001b[0mclose\u001b[0m\u001b[1;33m(\u001b[0m\u001b[1;33m)\u001b[0m\u001b[1;33m\u001b[0m\u001b[1;33m\u001b[0m\u001b[0m\n",
      "\u001b[1;32mC:\\Users\\HP\\Anaconda3\\lib\\site-packages\\pandas\\io\\parsers.py\u001b[0m in \u001b[0;36mread\u001b[1;34m(self, nrows)\u001b[0m\n\u001b[0;32m   1137\u001b[0m     \u001b[1;32mdef\u001b[0m \u001b[0mread\u001b[0m\u001b[1;33m(\u001b[0m\u001b[0mself\u001b[0m\u001b[1;33m,\u001b[0m \u001b[0mnrows\u001b[0m\u001b[1;33m=\u001b[0m\u001b[1;32mNone\u001b[0m\u001b[1;33m)\u001b[0m\u001b[1;33m:\u001b[0m\u001b[1;33m\u001b[0m\u001b[1;33m\u001b[0m\u001b[0m\n\u001b[0;32m   1138\u001b[0m         \u001b[0mnrows\u001b[0m \u001b[1;33m=\u001b[0m \u001b[0m_validate_integer\u001b[0m\u001b[1;33m(\u001b[0m\u001b[1;34m'nrows'\u001b[0m\u001b[1;33m,\u001b[0m \u001b[0mnrows\u001b[0m\u001b[1;33m)\u001b[0m\u001b[1;33m\u001b[0m\u001b[1;33m\u001b[0m\u001b[0m\n\u001b[1;32m-> 1139\u001b[1;33m         \u001b[0mret\u001b[0m \u001b[1;33m=\u001b[0m \u001b[0mself\u001b[0m\u001b[1;33m.\u001b[0m\u001b[0m_engine\u001b[0m\u001b[1;33m.\u001b[0m\u001b[0mread\u001b[0m\u001b[1;33m(\u001b[0m\u001b[0mnrows\u001b[0m\u001b[1;33m)\u001b[0m\u001b[1;33m\u001b[0m\u001b[1;33m\u001b[0m\u001b[0m\n\u001b[0m\u001b[0;32m   1140\u001b[0m \u001b[1;33m\u001b[0m\u001b[0m\n\u001b[0;32m   1141\u001b[0m         \u001b[1;31m# May alter columns / col_dict\u001b[0m\u001b[1;33m\u001b[0m\u001b[1;33m\u001b[0m\u001b[1;33m\u001b[0m\u001b[0m\n",
      "\u001b[1;32mC:\\Users\\HP\\Anaconda3\\lib\\site-packages\\pandas\\io\\parsers.py\u001b[0m in \u001b[0;36mread\u001b[1;34m(self, nrows)\u001b[0m\n\u001b[0;32m   1993\u001b[0m     \u001b[1;32mdef\u001b[0m \u001b[0mread\u001b[0m\u001b[1;33m(\u001b[0m\u001b[0mself\u001b[0m\u001b[1;33m,\u001b[0m \u001b[0mnrows\u001b[0m\u001b[1;33m=\u001b[0m\u001b[1;32mNone\u001b[0m\u001b[1;33m)\u001b[0m\u001b[1;33m:\u001b[0m\u001b[1;33m\u001b[0m\u001b[1;33m\u001b[0m\u001b[0m\n\u001b[0;32m   1994\u001b[0m         \u001b[1;32mtry\u001b[0m\u001b[1;33m:\u001b[0m\u001b[1;33m\u001b[0m\u001b[1;33m\u001b[0m\u001b[0m\n\u001b[1;32m-> 1995\u001b[1;33m             \u001b[0mdata\u001b[0m \u001b[1;33m=\u001b[0m \u001b[0mself\u001b[0m\u001b[1;33m.\u001b[0m\u001b[0m_reader\u001b[0m\u001b[1;33m.\u001b[0m\u001b[0mread\u001b[0m\u001b[1;33m(\u001b[0m\u001b[0mnrows\u001b[0m\u001b[1;33m)\u001b[0m\u001b[1;33m\u001b[0m\u001b[1;33m\u001b[0m\u001b[0m\n\u001b[0m\u001b[0;32m   1996\u001b[0m         \u001b[1;32mexcept\u001b[0m \u001b[0mStopIteration\u001b[0m\u001b[1;33m:\u001b[0m\u001b[1;33m\u001b[0m\u001b[1;33m\u001b[0m\u001b[0m\n\u001b[0;32m   1997\u001b[0m             \u001b[1;32mif\u001b[0m \u001b[0mself\u001b[0m\u001b[1;33m.\u001b[0m\u001b[0m_first_chunk\u001b[0m\u001b[1;33m:\u001b[0m\u001b[1;33m\u001b[0m\u001b[1;33m\u001b[0m\u001b[0m\n",
      "\u001b[1;32mpandas/_libs/parsers.pyx\u001b[0m in \u001b[0;36mpandas._libs.parsers.TextReader.read\u001b[1;34m()\u001b[0m\n",
      "\u001b[1;32mpandas/_libs/parsers.pyx\u001b[0m in \u001b[0;36mpandas._libs.parsers.TextReader._read_low_memory\u001b[1;34m()\u001b[0m\n",
      "\u001b[1;32mpandas/_libs/parsers.pyx\u001b[0m in \u001b[0;36mpandas._libs.parsers.TextReader._read_rows\u001b[1;34m()\u001b[0m\n",
      "\u001b[1;32mpandas/_libs/parsers.pyx\u001b[0m in \u001b[0;36mpandas._libs.parsers.TextReader._tokenize_rows\u001b[1;34m()\u001b[0m\n",
      "\u001b[1;32mpandas/_libs/parsers.pyx\u001b[0m in \u001b[0;36mpandas._libs.parsers.raise_parser_error\u001b[1;34m()\u001b[0m\n",
      "\u001b[1;31mParserError\u001b[0m: Error tokenizing data. C error: Expected 1 fields in line 4, saw 2\n"
     ]
    }
   ],
   "source": [
    "import numpy as np\n",
    "import pandas as pd\n",
    "\n",
    "path = r\"C:\\Users\\HP\\Upgard Preparatory Notes\\Python for Data Science\\Reference Data from Upgrad\\companies.txt\"\n",
    "\n",
    "df = pd.read_csv(path)"
   ]
  },
  {
   "cell_type": "markdown",
   "metadata": {},
   "source": [
    "-  Reading companies.text gives an error beacause padas facing the decoding issue "
   ]
  },
  {
   "cell_type": "code",
   "execution_count": 14,
   "metadata": {},
   "outputs": [
    {
     "data": {
      "text/html": [
       "<div>\n",
       "<style scoped>\n",
       "    .dataframe tbody tr th:only-of-type {\n",
       "        vertical-align: middle;\n",
       "    }\n",
       "\n",
       "    .dataframe tbody tr th {\n",
       "        vertical-align: top;\n",
       "    }\n",
       "\n",
       "    .dataframe thead th {\n",
       "        text-align: right;\n",
       "    }\n",
       "</style>\n",
       "<table border=\"1\" class=\"dataframe\">\n",
       "  <thead>\n",
       "    <tr style=\"text-align: right;\">\n",
       "      <th></th>\n",
       "      <th>permalink</th>\n",
       "      <th>name</th>\n",
       "      <th>homepage_url</th>\n",
       "      <th>category_list</th>\n",
       "      <th>status</th>\n",
       "      <th>country_code</th>\n",
       "      <th>state_code</th>\n",
       "      <th>region</th>\n",
       "      <th>city</th>\n",
       "      <th>founded_at</th>\n",
       "    </tr>\n",
       "  </thead>\n",
       "  <tbody>\n",
       "    <tr>\n",
       "      <th>0</th>\n",
       "      <td>/Organization/-Fame</td>\n",
       "      <td>#fame</td>\n",
       "      <td>http://livfame.com</td>\n",
       "      <td>Media</td>\n",
       "      <td>operating</td>\n",
       "      <td>IND</td>\n",
       "      <td>16</td>\n",
       "      <td>Mumbai</td>\n",
       "      <td>Mumbai</td>\n",
       "      <td>NaN</td>\n",
       "    </tr>\n",
       "    <tr>\n",
       "      <th>1</th>\n",
       "      <td>/Organization/-Qounter</td>\n",
       "      <td>:Qounter</td>\n",
       "      <td>http://www.qounter.com</td>\n",
       "      <td>Application Platforms|Real Time|Social Network...</td>\n",
       "      <td>operating</td>\n",
       "      <td>USA</td>\n",
       "      <td>DE</td>\n",
       "      <td>DE - Other</td>\n",
       "      <td>Delaware City</td>\n",
       "      <td>04-09-2014</td>\n",
       "    </tr>\n",
       "    <tr>\n",
       "      <th>2</th>\n",
       "      <td>/Organization/-The-One-Of-Them-Inc-</td>\n",
       "      <td>(THE) ONE of THEM,Inc.</td>\n",
       "      <td>http://oneofthem.jp</td>\n",
       "      <td>Apps|Games|Mobile</td>\n",
       "      <td>operating</td>\n",
       "      <td>NaN</td>\n",
       "      <td>NaN</td>\n",
       "      <td>NaN</td>\n",
       "      <td>NaN</td>\n",
       "      <td>NaN</td>\n",
       "    </tr>\n",
       "    <tr>\n",
       "      <th>3</th>\n",
       "      <td>/Organization/0-6-Com</td>\n",
       "      <td>0-6.com</td>\n",
       "      <td>http://www.0-6.com</td>\n",
       "      <td>Curated Web</td>\n",
       "      <td>operating</td>\n",
       "      <td>CHN</td>\n",
       "      <td>22</td>\n",
       "      <td>Beijing</td>\n",
       "      <td>Beijing</td>\n",
       "      <td>01-01-2007</td>\n",
       "    </tr>\n",
       "    <tr>\n",
       "      <th>4</th>\n",
       "      <td>/Organization/004-Technologies</td>\n",
       "      <td>004 Technologies</td>\n",
       "      <td>http://004gmbh.de/en/004-interact</td>\n",
       "      <td>Software</td>\n",
       "      <td>operating</td>\n",
       "      <td>USA</td>\n",
       "      <td>IL</td>\n",
       "      <td>Springfield, Illinois</td>\n",
       "      <td>Champaign</td>\n",
       "      <td>01-01-2010</td>\n",
       "    </tr>\n",
       "  </tbody>\n",
       "</table>\n",
       "</div>"
      ],
      "text/plain": [
       "                             permalink                    name  \\\n",
       "0                  /Organization/-Fame                   #fame   \n",
       "1               /Organization/-Qounter                :Qounter   \n",
       "2  /Organization/-The-One-Of-Them-Inc-  (THE) ONE of THEM,Inc.   \n",
       "3                /Organization/0-6-Com                 0-6.com   \n",
       "4       /Organization/004-Technologies        004 Technologies   \n",
       "\n",
       "                        homepage_url  \\\n",
       "0                 http://livfame.com   \n",
       "1             http://www.qounter.com   \n",
       "2                http://oneofthem.jp   \n",
       "3                 http://www.0-6.com   \n",
       "4  http://004gmbh.de/en/004-interact   \n",
       "\n",
       "                                       category_list     status country_code  \\\n",
       "0                                              Media  operating          IND   \n",
       "1  Application Platforms|Real Time|Social Network...  operating          USA   \n",
       "2                                  Apps|Games|Mobile  operating          NaN   \n",
       "3                                        Curated Web  operating          CHN   \n",
       "4                                           Software  operating          USA   \n",
       "\n",
       "  state_code                 region           city  founded_at  \n",
       "0         16                 Mumbai         Mumbai         NaN  \n",
       "1         DE             DE - Other  Delaware City  04-09-2014  \n",
       "2        NaN                    NaN            NaN         NaN  \n",
       "3         22                Beijing        Beijing  01-01-2007  \n",
       "4         IL  Springfield, Illinois      Champaign  01-01-2010  "
      ]
     },
     "execution_count": 14,
     "metadata": {},
     "output_type": "execute_result"
    }
   ],
   "source": [
    "#using encoding \"ISO-8859-1\"\n",
    "companies = pd.read_csv(path, sep = '\\t', encoding = \"ISO-8859-1\")\n",
    "companies.head()"
   ]
  },
  {
   "cell_type": "markdown",
   "metadata": {},
   "source": [
    "### Getting Data from relational databases"
   ]
  },
  {
   "cell_type": "markdown",
   "metadata": {},
   "source": [
    "-  Data is commonly store in RDBMS formats and it is easy to get it into the python. We'll use the most comman one MySQL.\n",
    "-  All libararies available for the MySQL follows the following process.\n",
    "    -  Create a connection object between MySQL and pyhton\n",
    "    -  Create a cursor object (you use the cursor to open and close the connection).\n",
    "    -  Execute the SQL query\n",
    "    -  Retrive result of the query using methods such as `fetchone()` and `fetchall()` etc."
   ]
  },
  {
   "cell_type": "code",
   "execution_count": null,
   "metadata": {},
   "outputs": [],
   "source": [
    "import pymysql\n",
    "\n",
    "# create a connection object 'conn'\n",
    "conn = pymysql.connect(host=\"localhost\",\n",
    "                       user='root',\n",
    "                       passwd=\"password\", # your password\n",
    "                       db=\"world\"\n",
    "                      )\n",
    "# create a cursor object c\n",
    "c = conn.cursor()\n",
    "\n",
    "# execute a query using c.execute\n",
    "c.execute(\"select * from city;\")\n",
    "\n",
    "# getting the first row of data as a tuple\n",
    "all_rows = c.fetchall()\n",
    "\n",
    "# to get only the first row, use c.fetchone() instead"
   ]
  },
  {
   "cell_type": "markdown",
   "metadata": {},
   "source": [
    "### Getting data from websites\n",
    "\n",
    "-  Web scrapping is the art of programmatically getting data from the websites. \n",
    "-  most popular library for the scraping the data from the internet is `BeautifulSoup`. for use the `BeautifulSoup` we need the `request` module which basically conect to the given url and fetch data from it\n",
    "-  A web pase is basically the HTML code and main use of the `BeautifulSoup` is to parse the HTML easily."
   ]
  },
  {
   "cell_type": "markdown",
   "metadata": {},
   "source": [
    "#### Parsing HTML data using `BeautifulSoup` and `Requests`"
   ]
  },
  {
   "cell_type": "markdown",
   "metadata": {},
   "source": [
    "-  For start use of the `BeautifulSoup`. install it using `pip install beautifulsoup4` and load the module bs4 using `import bs4' \n",
    "-  Also install reqests module using `pip install requests`\n",
    "-  General procedure to get data from the website.\n",
    "    -  Use `requests` to connect to a url.\n",
    "    -  Create beautifulsoup object.\n",
    "    -  get attribute of beautifulsoup object(i.e. HTML element that you want)."
   ]
  },
  {
   "cell_type": "code",
   "execution_count": 10,
   "metadata": {},
   "outputs": [
    {
     "name": "stdout",
     "output_type": "stream",
     "text": [
      "200\n"
     ]
    }
   ],
   "source": [
    "import requests, bs4\n",
    "\n",
    "# getting HTML data from google play home page\n",
    "url = \"https://play.google.com/store/apps/details?id=com.facebook.orca&hl=en\"\n",
    "req = requests.get(url)\n",
    "print(req.status_code)\n",
    "\n",
    "# create beautifulsoup4 object\n",
    "soup = bs4.BeautifulSoup(req.text, \"html5lib\")"
   ]
  },
  {
   "cell_type": "markdown",
   "metadata": {},
   "source": [
    "Once you have a bs4 object, you can use it to get specific parts of the HTML document. \n",
    "\n",
    "In HTML, the most common elements are either a part of a ```class```, or are assigned an ```id```. A typical HTML code looks like this:\n",
    "\n",
    "\n",
    "```\n",
    "    <body>\n",
    "        <div class=\"some_class\">\n",
    "            <p id=\"a_unique_id\">\n",
    "                A paragraph that you can read on the webpage here.\n",
    "            </p>\n",
    "        </div>\n",
    "    </body>\n",
    "```"
   ]
  },
  {
   "cell_type": "markdown",
   "metadata": {},
   "source": [
    "-  To get sepecific part of the web-page is using the `soup.select()` method of bs4 \n",
    "    -  `soup.select(div)` select all elements inside the div tag.\n",
    "    -  `soup.select(div > p)` select all the `<p>` element within div tag.\n",
    "    - ```soup.select('.some_class')``` selects elements inside  ```class = \"some_class\"```\n",
    "    - ```soup.select('#some_id')``` selects all the elements inside the ```id=\"some_id\"``` element "
   ]
  },
  {
   "cell_type": "code",
   "execution_count": 8,
   "metadata": {},
   "outputs": [
    {
     "name": "stdout",
     "output_type": "stream",
     "text": [
      "<class 'list'>\n",
      "4\n",
      "\n",
      "\n"
     ]
    }
   ],
   "source": [
    "# select all the data between review- body \n",
    "\n",
    "review = soup.select('.W4P4ne ')\n",
    "print(type(review))\n",
    "print(len(review))\n",
    "print('\\n')\n"
   ]
  },
  {
   "cell_type": "code",
   "execution_count": 7,
   "metadata": {},
   "outputs": [
    {
     "name": "stdout",
     "output_type": "stream",
     "text": [
      "<class 'bs4.element.Tag'>\n",
      "['<div class=\"W4P4ne\"><div class=\"wSaTQd\">', '<meta content=\"Be together whenever with a simple way to text, video chat and rally the group.\\n\\n* SEND A MESSAGE -Skip exchanging phone numbers, just send a message. It\\'s seamless across devices.\\n* CUT DOWN GLARE WITH DARK MODE. Dark mode is a sleek new look that goes easy on the eyes by switching the background from white to black.\\n* SHOW YOUR REACTION - Add a silly sticker, send a dancing GIF and use emojis to express yourself better.\\n* SHARE PHOTOS AND VIDEOS - Capture the moment with the Messenger Camera, add a filter or doodle, then send to friends or share to Stories.\\n* RALLY THE GROUP - Make plans to get together with polls, share your location, split the bill and more.\\n* HOP ON A CALL OR VIDEO CHAT - Hang out anywhere, anytime by getting on call or a group video** chat — filters optional :) **Calls are free over Wi-Fi but otherwise standard data charges apply.\\n* SEND A VOICE MESSAGE - When text just won\\'t cut it, just hit record and send say, sing or shout it out loud.\\n* SEND MONEY SECURELY AND EASILY (within US, UK and France only) - Send and receive money from friends in the app by adding your debit card or PayPal* account. *PayPal available in the US only.\\n* SHARE YOUR LOCATION - Suggest a meeting spot or tell friends where you are by sharing your location with just a few taps.\\n* CHAT WITH BUSINESSES - Easily connect with your favorite businesses to make reservations, get customer support, find deals and more.\\n* PLAY GAMES WITH FRIENDS - Challenge friends, climb leaderboards, and discover your next gaming obsession.\\n* BRING SMS INTO MESSENGER - No need to open multiple apps to stay in touch. Use one app for SMS and Messenger.\\n\" itemprop=\"description\"/><h2 aria-label=\"Description\"></h2><div class=\"PHBdkd\" data-content-height=\"144\" jsaction=\"rcuQ6b:npT2md\" jscontroller=\"IsfMIf\" jsshadow=\"\"><div class=\"DWPxHb\" itemprop=\"description\" jsname=\"bN97Pc\"><span jsslot=\"\"><div jsname=\"sngebd\">Be together whenever with a simple way to text, video chat and rally the group.<br/><br/>* SEND A MESSAGE -Skip exchanging phone numbers, just send a message. It\\'s seamless across devices.<br/>* CUT DOWN GLARE WITH DARK MODE. Dark mode is a sleek new look that goes easy on the eyes by switching the background from white to black.<br/>* SHOW YOUR REACTION - Add a silly sticker, send a dancing GIF and use emojis to express yourself better.<br/>* SHARE PHOTOS AND VIDEOS - Capture the moment with the Messenger Camera, add a filter or doodle, then send to friends or share to Stories.<br/>* RALLY THE GROUP - Make plans to get together with polls, share your location, split the bill and more.<br/>* HOP ON A CALL OR VIDEO CHAT - Hang out anywhere, anytime by getting on call or a group video** chat — filters optional :) **Calls are free over Wi-Fi but otherwise standard data charges apply.<br/>* SEND A VOICE MESSAGE - When text just won\\'t cut it, just hit record and send say, sing or shout it out loud.<br/>* SEND MONEY SECURELY AND EASILY (within US, UK and France only) - Send and receive money from friends in the app by adding your debit card or PayPal* account. *PayPal available in the US only.<br/>* SHARE YOUR LOCATION - Suggest a meeting spot or tell friends where you are by sharing your location with just a few taps.<br/>* CHAT WITH BUSINESSES - Easily connect with your favorite businesses to make reservations, get customer support, find deals and more.<br/>* PLAY GAMES WITH FRIENDS - Challenge friends, climb leaderboards, and discover your next gaming obsession.<br/>* BRING SMS INTO MESSENGER - No need to open multiple apps to stay in touch. Use one app for SMS and Messenger.', '</span><div class=\"uwAgLc f3Fr9d\" jsname=\"WgKync\">', '', '<div class=\"n1EcZc uhqVLe\" jsaction=\"JIbuQc:ornU0b\" jsname=\"xBmnf\"><div aria-disabled=\"false\" aria-label=\"Read more\" class=\"U26fgb O0WRkf oG5Srb C0oVfc n9lfJ\" jsaction=\"click:cOuCgd; mousedown:UX7yZ; mouseup:lbsD7e; mouseenter:tfO1Yc; mouseleave:JywGue; focus:AHmuwe; blur:O22p3e; contextmenu:mg9Pef;touchstart:p6p2H; touchmove:FwuNnf; touchend:yfqBxc(preventMouseEvents=true|preventDefault=true); touchcancel:JMtRjd;\" jscontroller=\"VXdfxd\" jsshadow=\"\" role=\"button\" tabindex=\"0\"><div class=\"Vwe4Vb MbhUzd\" jsname=\"ksKsZd\">', '<div class=\"ZFr60d CeoRYc\">', '<span class=\"CwaK9\" jsslot=\"\"><span class=\"RveJvd snByac\">Read more</span></span>', '', '<div class=\"n1EcZc uhqVLe\" jsaction=\"JIbuQc:ornU0b\" jsname=\"zDTjtb\"><div aria-disabled=\"false\" aria-label=\"Collapse\" class=\"U26fgb O0WRkf oG5Srb C0oVfc n9lfJ\" jsaction=\"click:cOuCgd; mousedown:UX7yZ; mouseup:lbsD7e; mouseenter:tfO1Yc; mouseleave:JywGue; focus:AHmuwe; blur:O22p3e; contextmenu:mg9Pef;touchstart:p6p2H; touchmove:FwuNnf; touchend:yfqBxc(preventMouseEvents=true|preventDefault=true); touchcancel:JMtRjd;\" jscontroller=\"VXdfxd\" jsshadow=\"\" role=\"button\" tabindex=\"0\"><div class=\"Vwe4Vb MbhUzd\" jsname=\"ksKsZd\">', '<div class=\"ZFr60d CeoRYc\">', '<span class=\"CwaK9\" jsslot=\"\"><span class=\"RveJvd snByac\">Collapse</span></span>', '', '', '', '']\n"
     ]
    }
   ],
   "source": [
    "# step 1: split using </span>\n",
    "r = review[0]\n",
    "print(type(r))\n",
    "\n",
    "# r is a bs4 tag, convert it into string to use str.split() \n",
    "part1 = str(r).split(\"</div>\")\n",
    "print(part1)"
   ]
  },
  {
   "cell_type": "code",
   "execution_count": 71,
   "metadata": {},
   "outputs": [
    {
     "data": {
      "text/plain": [
       "'<meta content=\"Be together whenever with a simple way to text, video chat and rally the group.\\n\\n* SEND A MESSAGE -Skip exchanging phone numbers, just send a message. It\\'s seamless across devices.\\n* CUT DOWN GLARE WITH DARK MODE. Dark mode is a sleek new look that goes easy on the eyes by switching the background from white to black.\\n* SHOW YOUR REACTION - Add a silly sticker, send a dancing GIF and use emojis to express yourself better.\\n* SHARE PHOTOS AND VIDEOS - Capture the moment with the Messenger Camera, add a filter or doodle, then send to friends or share to Stories.\\n* RALLY THE GROUP - Make plans to get together with polls, share your location, split the bill and more.\\n* HOP ON A CALL OR VIDEO CHAT - Hang out anywhere, anytime by getting on call or a group video** chat — filters optional :) **Calls are free over Wi-Fi but otherwise standard data charges apply.\\n* SEND A VOICE MESSAGE - When text just won\\'t cut it, just hit record and send say, sing or shout it out loud.\\n* SEND MONEY SECURELY AND EASILY (within US, UK and France only) - Send and receive money from friends in the app by adding your debit card or PayPal* account. *PayPal available in the US only.\\n* SHARE YOUR LOCATION - Suggest a meeting spot or tell friends where you are by sharing your location with just a few taps.\\n* CHAT WITH BUSINESSES - Easily connect with your favorite businesses to make reservations, get customer support, find deals and more.\\n* PLAY GAMES WITH FRIENDS - Challenge friends, climb leaderboards, and discover your next gaming obsession.\\n* BRING SMS INTO MESSENGER - No need to open multiple apps to stay in touch. Use one app for SMS and Messenger.\\n\" itemprop=\"description\"/><h2 aria-label=\"Description\"></h2><div class=\"PHBdkd\" data-content-height=\"144\" jsaction=\"rcuQ6b:npT2md\" jscontroller=\"IsfMIf\" jsshadow=\"\"><div class=\"DWPxHb\" itemprop=\"description\" jsname=\"bN97Pc\"><span jsslot=\"\"><div jsname=\"sngebd\">Be together whenever with a simple way to text, video chat and rally the group.<br/><br/>* SEND A MESSAGE -Skip exchanging phone numbers, just send a message. It\\'s seamless across devices.<br/>* CUT DOWN GLARE WITH DARK MODE. Dark mode is a sleek new look that goes easy on the eyes by switching the background from white to black.<br/>* SHOW YOUR REACTION - Add a silly sticker, send a dancing GIF and use emojis to express yourself better.<br/>* SHARE PHOTOS AND VIDEOS - Capture the moment with the Messenger Camera, add a filter or doodle, then send to friends or share to Stories.<br/>* RALLY THE GROUP - Make plans to get together with polls, share your location, split the bill and more.<br/>* HOP ON A CALL OR VIDEO CHAT - Hang out anywhere, anytime by getting on call or a group video** chat — filters optional :) **Calls are free over Wi-Fi but otherwise standard data charges apply.<br/>* SEND A VOICE MESSAGE - When text just won\\'t cut it, just hit record and send say, sing or shout it out loud.<br/>* SEND MONEY SECURELY AND EASILY (within US, UK and France only) - Send and receive money from friends in the app by adding your debit card or PayPal* account. *PayPal available in the US only.<br/>* SHARE YOUR LOCATION - Suggest a meeting spot or tell friends where you are by sharing your location with just a few taps.<br/>* CHAT WITH BUSINESSES - Easily connect with your favorite businesses to make reservations, get customer support, find deals and more.<br/>* PLAY GAMES WITH FRIENDS - Challenge friends, climb leaderboards, and discover your next gaming obsession.<br/>* BRING SMS INTO MESSENGER - No need to open multiple apps to stay in touch. Use one app for SMS and Messenger.'"
      ]
     },
     "execution_count": 71,
     "metadata": {},
     "output_type": "execute_result"
    }
   ],
   "source": [
    "# Now split part1 using '<div class=\"review-link' as the separator\n",
    "# and get the first element of the resulting list\n",
    "# we get the review\n",
    "part2 = part1[1].split('<div class=\"review-link')[0]\n",
    "part2"
   ]
  },
  {
   "cell_type": "code",
   "execution_count": 74,
   "metadata": {},
   "outputs": [
    {
     "data": {
      "text/plain": [
       "['<div class=\"uwAgLc f3Fr9d\" jsname=\"WgKync\"></div></div><div class=\"n1EcZc uhqVLe\" jsaction=\"JIbuQc:ornU0b\" jsname=\"xBmnf\"><div aria-disabled=\"false\" aria-label=\"Read more\" class=\"U26fgb O0WRkf oG5Srb C0oVfc n9lfJ\" jsaction=\"click:cOuCgd; mousedown:UX7yZ; mouseup:lbsD7e; mouseenter:tfO1Yc; mouseleave:JywGue; focus:AHmuwe; blur:O22p3e; contextmenu:mg9Pef;touchstart:p6p2H; touchmove:FwuNnf; touchend:yfqBxc(preventMouseEvents=true|preventDefault=true); touchcancel:JMtRjd;\" jscontroller=\"VXdfxd\" jsshadow=\"\" role=\"button\" tabindex=\"0\"><div class=\"Vwe4Vb MbhUzd\" jsname=\"ksKsZd\"></div><div class=\"ZFr60d CeoRYc\"></div><span class=\"CwaK9\" jsslot=\"\"><span class=\"RveJvd snByac\">Read more',\n",
       " '<span class=\"lSXt5d\">Review Policy',\n",
       " '<div class=\"uwAgLc f3Fr9d\" jsname=\"WgKync\"></div></div><div class=\"n1EcZc uhqVLe\" jsaction=\"JIbuQc:ornU0b\" jsname=\"xBmnf\"><div aria-disabled=\"false\" aria-label=\"Read more\" class=\"U26fgb O0WRkf oG5Srb C0oVfc n9lfJ\" jsaction=\"click:cOuCgd; mousedown:UX7yZ; mouseup:lbsD7e; mouseenter:tfO1Yc; mouseleave:JywGue; focus:AHmuwe; blur:O22p3e; contextmenu:mg9Pef;touchstart:p6p2H; touchmove:FwuNnf; touchend:yfqBxc(preventMouseEvents=true|preventDefault=true); touchcancel:JMtRjd;\" jscontroller=\"VXdfxd\" jsshadow=\"\" role=\"button\" tabindex=\"0\"><div class=\"Vwe4Vb MbhUzd\" jsname=\"ksKsZd\"></div><div class=\"ZFr60d CeoRYc\"></div><span class=\"CwaK9\" jsslot=\"\"><span class=\"RveJvd snByac\">Read more',\n",
       " '</div>']"
      ]
     },
     "execution_count": 74,
     "metadata": {},
     "output_type": "execute_result"
    }
   ],
   "source": [
    "# apply this sequence of splitting to every element of the reviews list\n",
    "# using a list comprehension\n",
    "review_text = [str(r).split(\"</span>\")[1].split('<div class=\"review-link')[0] for r in review]\n",
    "\n",
    "# printing the first 10 reviews\n",
    "review_text[0:10]"
   ]
  },
  {
   "cell_type": "code",
   "execution_count": 1,
   "metadata": {},
   "outputs": [
    {
     "data": {
      "text/plain": [
       "<Response [200]>"
      ]
     },
     "execution_count": 1,
     "metadata": {},
     "output_type": "execute_result"
    }
   ],
   "source": [
    "import requests\n",
    "page = requests.get(\"http://dataquestio.github.io/web-scraping-pages/simple.html\")\n",
    "page"
   ]
  },
  {
   "cell_type": "code",
   "execution_count": 2,
   "metadata": {},
   "outputs": [
    {
     "data": {
      "text/plain": [
       "200"
      ]
     },
     "execution_count": 2,
     "metadata": {},
     "output_type": "execute_result"
    }
   ],
   "source": [
    "page.status_code"
   ]
  },
  {
   "cell_type": "code",
   "execution_count": 11,
   "metadata": {},
   "outputs": [
    {
     "data": {
      "text/plain": [
       "b'<!DOCTYPE html>\\n<html>\\n    <head>\\n        <title>A simple example page</title>\\n    </head>\\n    <body>\\n        <p>Here is some simple content for this page.</p>\\n    </body>\\n</html>'"
      ]
     },
     "execution_count": 11,
     "metadata": {},
     "output_type": "execute_result"
    }
   ],
   "source": [
    "page.content"
   ]
  },
  {
   "cell_type": "code",
   "execution_count": 13,
   "metadata": {},
   "outputs": [],
   "source": [
    "from bs4 import BeautifulSoup\n",
    "soup = BeautifulSoup(page.content, 'html.parser')"
   ]
  },
  {
   "cell_type": "code",
   "execution_count": 14,
   "metadata": {},
   "outputs": [
    {
     "name": "stdout",
     "output_type": "stream",
     "text": [
      "<bound method Tag.prettify of <!DOCTYPE html>\n",
      "\n",
      "<html>\n",
      "<head>\n",
      "<title>A simple example page</title>\n",
      "</head>\n",
      "<body>\n",
      "<p>Here is some simple content for this page.</p>\n",
      "</body>\n",
      "</html>>\n"
     ]
    }
   ],
   "source": [
    "print(soup.prettify)"
   ]
  },
  {
   "cell_type": "code",
   "execution_count": 15,
   "metadata": {},
   "outputs": [
    {
     "data": {
      "text/plain": [
       "['html', '\\n', <html>\n",
       " <head>\n",
       " <title>A simple example page</title>\n",
       " </head>\n",
       " <body>\n",
       " <p>Here is some simple content for this page.</p>\n",
       " </body>\n",
       " </html>]"
      ]
     },
     "execution_count": 15,
     "metadata": {},
     "output_type": "execute_result"
    }
   ],
   "source": [
    "list(soup.children)"
   ]
  },
  {
   "cell_type": "code",
   "execution_count": 18,
   "metadata": {},
   "outputs": [
    {
     "data": {
      "text/plain": [
       "[<p>Here is some simple content for this page.</p>]"
      ]
     },
     "execution_count": 18,
     "metadata": {},
     "output_type": "execute_result"
    }
   ],
   "source": [
    "soup = BeautifulSoup(page.content, 'html.parser')\n",
    "soup.find_all('p')"
   ]
  },
  {
   "cell_type": "code",
   "execution_count": 22,
   "metadata": {},
   "outputs": [
    {
     "data": {
      "text/plain": [
       "'Here is some simple content for this page.'"
      ]
     },
     "execution_count": 22,
     "metadata": {},
     "output_type": "execute_result"
    }
   ],
   "source": [
    "soup.find_all('p')[0].get_text()"
   ]
  },
  {
   "cell_type": "code",
   "execution_count": null,
   "metadata": {},
   "outputs": [],
   "source": []
  },
  {
   "cell_type": "code",
   "execution_count": 58,
   "metadata": {},
   "outputs": [
    {
     "name": "stdout",
     "output_type": "stream",
     "text": [
      "Tonight: Patchy fog after 11pm.  Otherwise, increasing clouds, with a low around 56. West southwest wind 9 to 15 mph, with gusts as high as 18 mph. \n"
     ]
    }
   ],
   "source": [
    "# load the data from given url using the requests library\n",
    "url = \"https://forecast.weather.gov/MapClick.php?lat=37.7772&lon=-122.4168#.XQEnu4gzZEY\"\n",
    "Page = requests.get(url)\n",
    "#Create soup object using BeautifulSoup \n",
    "soup = BeautifulSoup(Page.content, 'html.parser')\n",
    "#find the Seven_day_forecast tag\n",
    "Seven_day = soup.find(id='seven-day-forecast')\n",
    "# find forecast item\n",
    "forecast_items = Seven_day.find_all(class_=\"forecast-tombstone\")\n",
    "tonight = forecast_items[1]\n",
    "text = tonight.find('img')\n",
    "desc = text['title']\n",
    "print(desc)"
   ]
  },
  {
   "cell_type": "code",
   "execution_count": 42,
   "metadata": {},
   "outputs": [
    {
     "data": {
      "text/plain": [
       "['Today',\n",
       " 'Tonight',\n",
       " 'Thursday',\n",
       " 'ThursdayNight',\n",
       " 'Friday',\n",
       " 'FridayNight',\n",
       " 'Saturday',\n",
       " 'SaturdayNight',\n",
       " 'Sunday']"
      ]
     },
     "execution_count": 42,
     "metadata": {},
     "output_type": "execute_result"
    }
   ],
   "source": [
    "period_tags = Seven_day.select(\".tombstone-container .period-name\")\n",
    "periods = [pt.get_text() for pt in period_tags]\n",
    "periods"
   ]
  },
  {
   "cell_type": "code",
   "execution_count": 15,
   "metadata": {},
   "outputs": [
    {
     "ename": "TypeError",
     "evalue": "'NoneType' object is not callable",
     "output_type": "error",
     "traceback": [
      "\u001b[1;31m---------------------------------------------------------------------------\u001b[0m",
      "\u001b[1;31mTypeError\u001b[0m                                 Traceback (most recent call last)",
      "\u001b[1;32m<ipython-input-15-5eb078dcc5e3>\u001b[0m in \u001b[0;36m<module>\u001b[1;34m\u001b[0m\n\u001b[0;32m      8\u001b[0m \u001b[0msoup\u001b[0m \u001b[1;33m=\u001b[0m \u001b[0mBeautifulSoup\u001b[0m\u001b[1;33m(\u001b[0m\u001b[0mpage\u001b[0m\u001b[1;33m.\u001b[0m\u001b[0mcontent\u001b[0m\u001b[1;33m,\u001b[0m \u001b[1;34m'html.parser'\u001b[0m\u001b[1;33m)\u001b[0m\u001b[1;33m\u001b[0m\u001b[1;33m\u001b[0m\u001b[0m\n\u001b[0;32m      9\u001b[0m \u001b[0mcomment_id\u001b[0m \u001b[1;33m=\u001b[0m \u001b[0msoup\u001b[0m\u001b[1;33m.\u001b[0m\u001b[0mfind\u001b[0m\u001b[1;33m(\u001b[0m\u001b[0mid\u001b[0m\u001b[1;33m=\u001b[0m\u001b[1;34m\"comm_1560418134727\"\u001b[0m\u001b[1;33m)\u001b[0m\u001b[1;33m\u001b[0m\u001b[1;33m\u001b[0m\u001b[0m\n\u001b[1;32m---> 10\u001b[1;33m \u001b[0mclass_find\u001b[0m \u001b[1;33m=\u001b[0m \u001b[0mcomment_id\u001b[0m\u001b[1;33m(\u001b[0m\u001b[0mclass_\u001b[0m\u001b[1;33m=\u001b[0m\u001b[1;34m\"cb-col cb-col-90\"\u001b[0m\u001b[1;33m)\u001b[0m\u001b[1;33m\u001b[0m\u001b[1;33m\u001b[0m\u001b[0m\n\u001b[0m\u001b[0;32m     11\u001b[0m \u001b[0mcomment\u001b[0m \u001b[1;33m=\u001b[0m \u001b[0mclass_find\u001b[0m\u001b[1;33m[\u001b[0m\u001b[1;36m0\u001b[0m\u001b[1;33m]\u001b[0m\u001b[1;33m\u001b[0m\u001b[1;33m\u001b[0m\u001b[0m\n",
      "\u001b[1;31mTypeError\u001b[0m: 'NoneType' object is not callable"
     ]
    }
   ],
   "source": [
    "import numpy as np\n",
    "import pandas as pd\n",
    "import requests\n",
    "from bs4 import BeautifulSoup\n",
    "url = \"https://www.cricbuzz.com/live-cricket-scores/20254/ind-vs-nz-match-18-icc-cricket-world-cup-2019\"\n",
    "page = requests.get(url)\n",
    "# create soup object\n",
    "soup = BeautifulSoup(page.content, 'html.parser')\n",
    "comment_id = soup.find(id=\"comm_1560418134727\")\n",
    "class_find = comment_id(class_=\"cb-col cb-col-90\")\n",
    "comment = class_find[0]"
   ]
  },
  {
   "cell_type": "code",
   "execution_count": null,
   "metadata": {},
   "outputs": [],
   "source": []
  }
 ],
 "metadata": {
  "kernelspec": {
   "display_name": "Python 3",
   "language": "python",
   "name": "python3"
  },
  "language_info": {
   "codemirror_mode": {
    "name": "ipython",
    "version": 3
   },
   "file_extension": ".py",
   "mimetype": "text/x-python",
   "name": "python",
   "nbconvert_exporter": "python",
   "pygments_lexer": "ipython3",
   "version": "3.7.3"
  }
 },
 "nbformat": 4,
 "nbformat_minor": 2
}
