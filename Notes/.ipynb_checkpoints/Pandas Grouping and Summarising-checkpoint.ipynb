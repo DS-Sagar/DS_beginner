{
 "cells": [
  {
   "cell_type": "markdown",
   "metadata": {},
   "source": [
    "### Grouping and summarising Dataframes"
   ]
  },
  {
   "cell_type": "markdown",
   "metadata": {},
   "source": [
    "Grouping and aggregation are most commanly used operations in data analysis, especialy while doing the exploratory data analysis(EDA)."
   ]
  },
  {
   "cell_type": "markdown",
   "metadata": {},
   "source": [
    "-  Grouping analysis having the three parts \n",
    "    -  **Spliting** the data into group\n",
    "    -  **Applying** function to each group\n",
    "    -  **Combining** The result into data structure showing the summery stastitics. "
   ]
  },
  {
   "cell_type": "code",
   "execution_count": 2,
   "metadata": {},
   "outputs": [],
   "source": [
    "import pandas as pd\n",
    "import numpy as np\n",
    "\n",
    "market_df = pd.read_csv(r\"F:\\PGD_UpGrad\\Preparatory\\Module 5 Python for Data Science\\Referance Data\\Introduction+to+Pandas\\Introduction to Pandas\\global_sales_data/market_fact.csv\")\n",
    "customer_df = pd.read_csv(r\"F:\\PGD_UpGrad\\Preparatory\\Module 5 Python for Data Science\\Referance Data\\Introduction+to+Pandas\\Introduction to Pandas\\global_sales_data/cust_dimen.csv\")\n",
    "product_df = pd.read_csv(r\"F:\\PGD_UpGrad\\Preparatory\\Module 5 Python for Data Science\\Referance Data\\Introduction+to+Pandas\\Introduction to Pandas\\global_sales_data/prod_dimen.csv\")\n",
    "shipping_df = pd.read_csv(r\"F:\\PGD_UpGrad\\Preparatory\\Module 5 Python for Data Science\\Referance Data\\Introduction+to+Pandas\\Introduction to Pandas\\global_sales_data/shipping_dimen.csv\")\n",
    "orders_df = pd.read_csv(r\"F:\\PGD_UpGrad\\Preparatory\\Module 5 Python for Data Science\\Referance Data\\Introduction+to+Pandas\\Introduction to Pandas\\global_sales_data/orders_dimen.csv\")\n"
   ]
  },
  {
   "cell_type": "markdown",
   "metadata": {},
   "source": [
    "Merge the all dataframe before applying the stastitical operations"
   ]
  },
  {
   "cell_type": "code",
   "execution_count": 3,
   "metadata": {},
   "outputs": [
    {
     "data": {
      "text/html": [
       "<div>\n",
       "<style scoped>\n",
       "    .dataframe tbody tr th:only-of-type {\n",
       "        vertical-align: middle;\n",
       "    }\n",
       "\n",
       "    .dataframe tbody tr th {\n",
       "        vertical-align: top;\n",
       "    }\n",
       "\n",
       "    .dataframe thead th {\n",
       "        text-align: right;\n",
       "    }\n",
       "</style>\n",
       "<table border=\"1\" class=\"dataframe\">\n",
       "  <thead>\n",
       "    <tr style=\"text-align: right;\">\n",
       "      <th></th>\n",
       "      <th>Ord_id</th>\n",
       "      <th>Prod_id</th>\n",
       "      <th>Ship_id</th>\n",
       "      <th>Cust_id</th>\n",
       "      <th>Sales</th>\n",
       "      <th>Discount</th>\n",
       "      <th>Order_Quantity</th>\n",
       "      <th>Profit</th>\n",
       "      <th>Shipping_Cost</th>\n",
       "      <th>Product_Base_Margin</th>\n",
       "      <th>...</th>\n",
       "      <th>Region</th>\n",
       "      <th>Customer_Segment</th>\n",
       "      <th>Product_Category</th>\n",
       "      <th>Product_Sub_Category</th>\n",
       "      <th>Order_ID_x</th>\n",
       "      <th>Ship_Mode</th>\n",
       "      <th>Ship_Date</th>\n",
       "      <th>Order_ID_y</th>\n",
       "      <th>Order_Date</th>\n",
       "      <th>Order_Priority</th>\n",
       "    </tr>\n",
       "  </thead>\n",
       "  <tbody>\n",
       "    <tr>\n",
       "      <th>0</th>\n",
       "      <td>Ord_5446</td>\n",
       "      <td>Prod_16</td>\n",
       "      <td>SHP_7609</td>\n",
       "      <td>Cust_1818</td>\n",
       "      <td>136.81</td>\n",
       "      <td>0.01</td>\n",
       "      <td>23</td>\n",
       "      <td>-30.51</td>\n",
       "      <td>3.60</td>\n",
       "      <td>0.56</td>\n",
       "      <td>...</td>\n",
       "      <td>WEST</td>\n",
       "      <td>CORPORATE</td>\n",
       "      <td>OFFICE SUPPLIES</td>\n",
       "      <td>SCISSORS, RULERS AND TRIMMERS</td>\n",
       "      <td>36262</td>\n",
       "      <td>REGULAR AIR</td>\n",
       "      <td>28-07-2010</td>\n",
       "      <td>36262</td>\n",
       "      <td>27-07-2010</td>\n",
       "      <td>NOT SPECIFIED</td>\n",
       "    </tr>\n",
       "    <tr>\n",
       "      <th>1</th>\n",
       "      <td>Ord_5446</td>\n",
       "      <td>Prod_4</td>\n",
       "      <td>SHP_7610</td>\n",
       "      <td>Cust_1818</td>\n",
       "      <td>4701.69</td>\n",
       "      <td>0.00</td>\n",
       "      <td>26</td>\n",
       "      <td>1148.90</td>\n",
       "      <td>2.50</td>\n",
       "      <td>0.59</td>\n",
       "      <td>...</td>\n",
       "      <td>WEST</td>\n",
       "      <td>CORPORATE</td>\n",
       "      <td>TECHNOLOGY</td>\n",
       "      <td>TELEPHONES AND COMMUNICATION</td>\n",
       "      <td>36262</td>\n",
       "      <td>EXPRESS AIR</td>\n",
       "      <td>27-07-2010</td>\n",
       "      <td>36262</td>\n",
       "      <td>27-07-2010</td>\n",
       "      <td>NOT SPECIFIED</td>\n",
       "    </tr>\n",
       "    <tr>\n",
       "      <th>2</th>\n",
       "      <td>Ord_5446</td>\n",
       "      <td>Prod_6</td>\n",
       "      <td>SHP_7608</td>\n",
       "      <td>Cust_1818</td>\n",
       "      <td>164.02</td>\n",
       "      <td>0.03</td>\n",
       "      <td>23</td>\n",
       "      <td>-47.64</td>\n",
       "      <td>6.15</td>\n",
       "      <td>0.37</td>\n",
       "      <td>...</td>\n",
       "      <td>WEST</td>\n",
       "      <td>CORPORATE</td>\n",
       "      <td>OFFICE SUPPLIES</td>\n",
       "      <td>PAPER</td>\n",
       "      <td>36262</td>\n",
       "      <td>EXPRESS AIR</td>\n",
       "      <td>28-07-2010</td>\n",
       "      <td>36262</td>\n",
       "      <td>27-07-2010</td>\n",
       "      <td>NOT SPECIFIED</td>\n",
       "    </tr>\n",
       "    <tr>\n",
       "      <th>3</th>\n",
       "      <td>Ord_2978</td>\n",
       "      <td>Prod_16</td>\n",
       "      <td>SHP_4112</td>\n",
       "      <td>Cust_1088</td>\n",
       "      <td>305.05</td>\n",
       "      <td>0.04</td>\n",
       "      <td>27</td>\n",
       "      <td>23.12</td>\n",
       "      <td>3.37</td>\n",
       "      <td>0.57</td>\n",
       "      <td>...</td>\n",
       "      <td>ONTARIO</td>\n",
       "      <td>HOME OFFICE</td>\n",
       "      <td>OFFICE SUPPLIES</td>\n",
       "      <td>SCISSORS, RULERS AND TRIMMERS</td>\n",
       "      <td>37863</td>\n",
       "      <td>REGULAR AIR</td>\n",
       "      <td>26-02-2011</td>\n",
       "      <td>37863</td>\n",
       "      <td>24-02-2011</td>\n",
       "      <td>HIGH</td>\n",
       "    </tr>\n",
       "    <tr>\n",
       "      <th>4</th>\n",
       "      <td>Ord_5484</td>\n",
       "      <td>Prod_16</td>\n",
       "      <td>SHP_7663</td>\n",
       "      <td>Cust_1820</td>\n",
       "      <td>322.82</td>\n",
       "      <td>0.05</td>\n",
       "      <td>35</td>\n",
       "      <td>-17.58</td>\n",
       "      <td>3.98</td>\n",
       "      <td>0.56</td>\n",
       "      <td>...</td>\n",
       "      <td>WEST</td>\n",
       "      <td>CONSUMER</td>\n",
       "      <td>OFFICE SUPPLIES</td>\n",
       "      <td>SCISSORS, RULERS AND TRIMMERS</td>\n",
       "      <td>53026</td>\n",
       "      <td>REGULAR AIR</td>\n",
       "      <td>03-03-2012</td>\n",
       "      <td>53026</td>\n",
       "      <td>26-02-2012</td>\n",
       "      <td>LOW</td>\n",
       "    </tr>\n",
       "  </tbody>\n",
       "</table>\n",
       "<p>5 rows × 22 columns</p>\n",
       "</div>"
      ],
      "text/plain": [
       "     Ord_id  Prod_id   Ship_id    Cust_id    Sales  Discount  Order_Quantity  \\\n",
       "0  Ord_5446  Prod_16  SHP_7609  Cust_1818   136.81      0.01              23   \n",
       "1  Ord_5446   Prod_4  SHP_7610  Cust_1818  4701.69      0.00              26   \n",
       "2  Ord_5446   Prod_6  SHP_7608  Cust_1818   164.02      0.03              23   \n",
       "3  Ord_2978  Prod_16  SHP_4112  Cust_1088   305.05      0.04              27   \n",
       "4  Ord_5484  Prod_16  SHP_7663  Cust_1820   322.82      0.05              35   \n",
       "\n",
       "    Profit  Shipping_Cost  Product_Base_Margin  ...   Region Customer_Segment  \\\n",
       "0   -30.51           3.60                 0.56  ...     WEST        CORPORATE   \n",
       "1  1148.90           2.50                 0.59  ...     WEST        CORPORATE   \n",
       "2   -47.64           6.15                 0.37  ...     WEST        CORPORATE   \n",
       "3    23.12           3.37                 0.57  ...  ONTARIO      HOME OFFICE   \n",
       "4   -17.58           3.98                 0.56  ...     WEST         CONSUMER   \n",
       "\n",
       "  Product_Category           Product_Sub_Category Order_ID_x    Ship_Mode  \\\n",
       "0  OFFICE SUPPLIES  SCISSORS, RULERS AND TRIMMERS      36262  REGULAR AIR   \n",
       "1       TECHNOLOGY   TELEPHONES AND COMMUNICATION      36262  EXPRESS AIR   \n",
       "2  OFFICE SUPPLIES                          PAPER      36262  EXPRESS AIR   \n",
       "3  OFFICE SUPPLIES  SCISSORS, RULERS AND TRIMMERS      37863  REGULAR AIR   \n",
       "4  OFFICE SUPPLIES  SCISSORS, RULERS AND TRIMMERS      53026  REGULAR AIR   \n",
       "\n",
       "    Ship_Date Order_ID_y  Order_Date  Order_Priority  \n",
       "0  28-07-2010      36262  27-07-2010   NOT SPECIFIED  \n",
       "1  27-07-2010      36262  27-07-2010   NOT SPECIFIED  \n",
       "2  28-07-2010      36262  27-07-2010   NOT SPECIFIED  \n",
       "3  26-02-2011      37863  24-02-2011            HIGH  \n",
       "4  03-03-2012      53026  26-02-2012             LOW  \n",
       "\n",
       "[5 rows x 22 columns]"
      ]
     },
     "execution_count": 3,
     "metadata": {},
     "output_type": "execute_result"
    }
   ],
   "source": [
    "df1 = pd.merge(market_df, customer_df, how='inner', on= 'Cust_id')\n",
    "df2 = pd.merge(df1,product_df, how= 'inner', on= 'Prod_id')\n",
    "df3 = pd.merge(df2, shipping_df, how = 'inner', on= 'Ship_id')\n",
    "master_df = pd.merge(df3, orders_df, how='inner', on= 'Ord_id') \n",
    "master_df.head()"
   ]
  },
  {
   "cell_type": "markdown",
   "metadata": {},
   "source": [
    "#### Step 1. Grouping by `df.groupby()`"
   ]
  },
  {
   "cell_type": "markdown",
   "metadata": {},
   "source": [
    "-   Typically we group the data using the categerical variable. This create the many subset of the data as there are levels in categorical varibale.\n",
    "-   `df.groupby` return the DataFrameGroupby object.\n",
    "-   You perform the groupby operation only on demand. you can use it only on demand till then data remains untouch\n",
    "-   You can perform the various artihmatic operation on groupby object."
   ]
  },
  {
   "cell_type": "code",
   "execution_count": 4,
   "metadata": {},
   "outputs": [
    {
     "data": {
      "text/plain": [
       "<pandas.core.groupby.generic.DataFrameGroupBy object at 0x000001D724DCD208>"
      ]
     },
     "execution_count": 4,
     "metadata": {},
     "output_type": "execute_result"
    }
   ],
   "source": [
    "df_by_segment = master_df.groupby('Customer_Segment')\n",
    "df_by_segment"
   ]
  },
  {
   "cell_type": "markdown",
   "metadata": {},
   "source": [
    "#### Step 2. Applying a Function\n",
    "\n",
    "After grouping, you apply a function to a **numeric variable**, such as ```mean(Sales)```, ```sum(Profit)```, etc. "
   ]
  },
  {
   "cell_type": "code",
   "execution_count": 6,
   "metadata": {},
   "outputs": [
    {
     "data": {
      "text/plain": [
       "Customer_Segment\n",
       "CONSUMER          287959.94\n",
       "CORPORATE         599746.00\n",
       "HOME OFFICE       318354.03\n",
       "SMALL BUSINESS    315708.01\n",
       "Name: Profit, dtype: float64"
      ]
     },
     "execution_count": 6,
     "metadata": {},
     "output_type": "execute_result"
    }
   ],
   "source": [
    "# We can choose the agrigation function such as sum, mean, median etc.\n",
    "df_by_segment['Profit'].sum()"
   ]
  },
  {
   "cell_type": "markdown",
   "metadata": {},
   "source": [
    "Notice that we have indexed the ```Profit``` column in the DataFrameGroupBy object exactly as we index a normal column in a dataframe. Alternatively, you could also use ```df_by_segment.Profit```. "
   ]
  },
  {
   "cell_type": "code",
   "execution_count": 48,
   "metadata": {},
   "outputs": [
    {
     "data": {
      "text/html": [
       "<div>\n",
       "<style scoped>\n",
       "    .dataframe tbody tr th:only-of-type {\n",
       "        vertical-align: middle;\n",
       "    }\n",
       "\n",
       "    .dataframe tbody tr th {\n",
       "        vertical-align: top;\n",
       "    }\n",
       "\n",
       "    .dataframe thead th {\n",
       "        text-align: right;\n",
       "    }\n",
       "</style>\n",
       "<table border=\"1\" class=\"dataframe\">\n",
       "  <thead>\n",
       "    <tr style=\"text-align: right;\">\n",
       "      <th></th>\n",
       "      <th>0</th>\n",
       "      <th>1</th>\n",
       "    </tr>\n",
       "  </thead>\n",
       "  <tbody>\n",
       "    <tr>\n",
       "      <th>0</th>\n",
       "      <td>CONSUMER</td>\n",
       "      <td>4        -17.58\n",
       "61       -21.91\n",
       "62        38.7...</td>\n",
       "    </tr>\n",
       "    <tr>\n",
       "      <th>1</th>\n",
       "      <td>CORPORATE</td>\n",
       "      <td>0         -30.51\n",
       "1        1148.90\n",
       "2         -4...</td>\n",
       "    </tr>\n",
       "    <tr>\n",
       "      <th>2</th>\n",
       "      <td>HOME OFFICE</td>\n",
       "      <td>3         23.12\n",
       "6        -78.64\n",
       "7        338.0...</td>\n",
       "    </tr>\n",
       "    <tr>\n",
       "      <th>3</th>\n",
       "      <td>SMALL BUSINESS</td>\n",
       "      <td>8        -13.53\n",
       "9        -15.20\n",
       "10        30.9...</td>\n",
       "    </tr>\n",
       "  </tbody>\n",
       "</table>\n",
       "</div>"
      ],
      "text/plain": [
       "                0                                                  1\n",
       "0        CONSUMER  4        -17.58\n",
       "61       -21.91\n",
       "62        38.7...\n",
       "1       CORPORATE  0         -30.51\n",
       "1        1148.90\n",
       "2         -4...\n",
       "2     HOME OFFICE  3         23.12\n",
       "6        -78.64\n",
       "7        338.0...\n",
       "3  SMALL BUSINESS  8        -13.53\n",
       "9        -15.20\n",
       "10        30.9..."
      ]
     },
     "execution_count": 48,
     "metadata": {},
     "output_type": "execute_result"
    }
   ],
   "source": [
    "pd.DataFrame(df_by_segment.Profit)"
   ]
  },
  {
   "cell_type": "code",
   "execution_count": 8,
   "metadata": {},
   "outputs": [
    {
     "data": {
      "text/plain": [
       "Customer_Segment\n",
       "CORPORATE         599746.00\n",
       "HOME OFFICE       318354.03\n",
       "SMALL BUSINESS    315708.01\n",
       "CONSUMER          287959.94\n",
       "Name: Profit, dtype: float64"
      ]
     },
     "execution_count": 8,
     "metadata": {},
     "output_type": "execute_result"
    }
   ],
   "source": [
    "# we can sort the summerised value by the descending and ascending order as below\n",
    "df_by_segment.Profit.sum().sort_values(ascending = False)"
   ]
  },
  {
   "cell_type": "markdown",
   "metadata": {},
   "source": [
    "#### Combining the result into dataframe "
   ]
  },
  {
   "cell_type": "code",
   "execution_count": 11,
   "metadata": {},
   "outputs": [
    {
     "data": {
      "text/html": [
       "<div>\n",
       "<style scoped>\n",
       "    .dataframe tbody tr th:only-of-type {\n",
       "        vertical-align: middle;\n",
       "    }\n",
       "\n",
       "    .dataframe tbody tr th {\n",
       "        vertical-align: top;\n",
       "    }\n",
       "\n",
       "    .dataframe thead th {\n",
       "        text-align: right;\n",
       "    }\n",
       "</style>\n",
       "<table border=\"1\" class=\"dataframe\">\n",
       "  <thead>\n",
       "    <tr style=\"text-align: right;\">\n",
       "      <th></th>\n",
       "      <th>Profit</th>\n",
       "    </tr>\n",
       "    <tr>\n",
       "      <th>Customer_Segment</th>\n",
       "      <th></th>\n",
       "    </tr>\n",
       "  </thead>\n",
       "  <tbody>\n",
       "    <tr>\n",
       "      <th>CORPORATE</th>\n",
       "      <td>599746.00</td>\n",
       "    </tr>\n",
       "    <tr>\n",
       "      <th>HOME OFFICE</th>\n",
       "      <td>318354.03</td>\n",
       "    </tr>\n",
       "    <tr>\n",
       "      <th>SMALL BUSINESS</th>\n",
       "      <td>315708.01</td>\n",
       "    </tr>\n",
       "    <tr>\n",
       "      <th>CONSUMER</th>\n",
       "      <td>287959.94</td>\n",
       "    </tr>\n",
       "  </tbody>\n",
       "</table>\n",
       "</div>"
      ],
      "text/plain": [
       "                     Profit\n",
       "Customer_Segment           \n",
       "CORPORATE         599746.00\n",
       "HOME OFFICE       318354.03\n",
       "SMALL BUSINESS    315708.01\n",
       "CONSUMER          287959.94"
      ]
     },
     "execution_count": 11,
     "metadata": {},
     "output_type": "execute_result"
    }
   ],
   "source": [
    "# we can creat the dataframe of group by object\n",
    "pd.DataFrame(df_by_segment.Profit.sum().sort_values(ascending = False))"
   ]
  },
  {
   "cell_type": "code",
   "execution_count": 13,
   "metadata": {},
   "outputs": [
    {
     "data": {
      "text/plain": [
       "<pandas.core.groupby.generic.DataFrameGroupBy object at 0x000001D72663C438>"
      ]
     },
     "execution_count": 13,
     "metadata": {},
     "output_type": "execute_result"
    }
   ],
   "source": [
    "# Let's go through some more examples\n",
    "# E.g.: Which product categories are the least profitable?\n",
    "\n",
    "df_by_catergory = master_df.groupby('Product_Category')\n",
    "df_by_catergory"
   ]
  },
  {
   "cell_type": "code",
   "execution_count": 15,
   "metadata": {},
   "outputs": [
    {
     "data": {
      "text/html": [
       "<div>\n",
       "<style scoped>\n",
       "    .dataframe tbody tr th:only-of-type {\n",
       "        vertical-align: middle;\n",
       "    }\n",
       "\n",
       "    .dataframe tbody tr th {\n",
       "        vertical-align: top;\n",
       "    }\n",
       "\n",
       "    .dataframe thead th {\n",
       "        text-align: right;\n",
       "    }\n",
       "</style>\n",
       "<table border=\"1\" class=\"dataframe\">\n",
       "  <thead>\n",
       "    <tr style=\"text-align: right;\">\n",
       "      <th></th>\n",
       "      <th>Profit</th>\n",
       "    </tr>\n",
       "    <tr>\n",
       "      <th>Product_Category</th>\n",
       "      <th></th>\n",
       "    </tr>\n",
       "  </thead>\n",
       "  <tbody>\n",
       "    <tr>\n",
       "      <th>FURNITURE</th>\n",
       "      <td>68.116607</td>\n",
       "    </tr>\n",
       "    <tr>\n",
       "      <th>OFFICE SUPPLIES</th>\n",
       "      <td>112.369074</td>\n",
       "    </tr>\n",
       "    <tr>\n",
       "      <th>TECHNOLOGY</th>\n",
       "      <td>429.207516</td>\n",
       "    </tr>\n",
       "  </tbody>\n",
       "</table>\n",
       "</div>"
      ],
      "text/plain": [
       "                      Profit\n",
       "Product_Category            \n",
       "FURNITURE          68.116607\n",
       "OFFICE SUPPLIES   112.369074\n",
       "TECHNOLOGY        429.207516"
      ]
     },
     "execution_count": 15,
     "metadata": {},
     "output_type": "execute_result"
    }
   ],
   "source": [
    "pd.DataFrame(df_by_catergory.Profit.mean())"
   ]
  },
  {
   "cell_type": "code",
   "execution_count": 19,
   "metadata": {},
   "outputs": [
    {
     "data": {
      "text/html": [
       "<div>\n",
       "<style scoped>\n",
       "    .dataframe tbody tr th:only-of-type {\n",
       "        vertical-align: middle;\n",
       "    }\n",
       "\n",
       "    .dataframe tbody tr th {\n",
       "        vertical-align: top;\n",
       "    }\n",
       "\n",
       "    .dataframe thead th {\n",
       "        text-align: right;\n",
       "    }\n",
       "</style>\n",
       "<table border=\"1\" class=\"dataframe\">\n",
       "  <thead>\n",
       "    <tr style=\"text-align: right;\">\n",
       "      <th></th>\n",
       "      <th></th>\n",
       "      <th>Profit</th>\n",
       "    </tr>\n",
       "    <tr>\n",
       "      <th>Product_Category</th>\n",
       "      <th>Product_Sub_Category</th>\n",
       "      <th></th>\n",
       "    </tr>\n",
       "  </thead>\n",
       "  <tbody>\n",
       "    <tr>\n",
       "      <th rowspan=\"4\" valign=\"top\">FURNITURE</th>\n",
       "      <th>BOOKCASES</th>\n",
       "      <td>-177.683228</td>\n",
       "    </tr>\n",
       "    <tr>\n",
       "      <th>CHAIRS &amp; CHAIRMATS</th>\n",
       "      <td>387.693601</td>\n",
       "    </tr>\n",
       "    <tr>\n",
       "      <th>OFFICE FURNISHINGS</th>\n",
       "      <td>127.446612</td>\n",
       "    </tr>\n",
       "    <tr>\n",
       "      <th>TABLES</th>\n",
       "      <td>-274.411357</td>\n",
       "    </tr>\n",
       "    <tr>\n",
       "      <th rowspan=\"9\" valign=\"top\">OFFICE SUPPLIES</th>\n",
       "      <th>APPLIANCES</th>\n",
       "      <td>223.866498</td>\n",
       "    </tr>\n",
       "    <tr>\n",
       "      <th>BINDERS AND BINDER ACCESSORIES</th>\n",
       "      <td>335.970918</td>\n",
       "    </tr>\n",
       "    <tr>\n",
       "      <th>ENVELOPES</th>\n",
       "      <td>195.864228</td>\n",
       "    </tr>\n",
       "    <tr>\n",
       "      <th>LABELS</th>\n",
       "      <td>47.490174</td>\n",
       "    </tr>\n",
       "    <tr>\n",
       "      <th>PAPER</th>\n",
       "      <td>36.949551</td>\n",
       "    </tr>\n",
       "    <tr>\n",
       "      <th>PENS &amp; ART SUPPLIES</th>\n",
       "      <td>11.950679</td>\n",
       "    </tr>\n",
       "    <tr>\n",
       "      <th>RUBBER BANDS</th>\n",
       "      <td>-0.573575</td>\n",
       "    </tr>\n",
       "    <tr>\n",
       "      <th>SCISSORS, RULERS AND TRIMMERS</th>\n",
       "      <td>-54.161458</td>\n",
       "    </tr>\n",
       "    <tr>\n",
       "      <th>STORAGE &amp; ORGANIZATION</th>\n",
       "      <td>12.205403</td>\n",
       "    </tr>\n",
       "    <tr>\n",
       "      <th rowspan=\"4\" valign=\"top\">TECHNOLOGY</th>\n",
       "      <th>COMPUTER PERIPHERALS</th>\n",
       "      <td>124.389815</td>\n",
       "    </tr>\n",
       "    <tr>\n",
       "      <th>COPIERS AND FAX</th>\n",
       "      <td>1923.695287</td>\n",
       "    </tr>\n",
       "    <tr>\n",
       "      <th>OFFICE MACHINES</th>\n",
       "      <td>913.094748</td>\n",
       "    </tr>\n",
       "    <tr>\n",
       "      <th>TELEPHONES AND COMMUNICATION</th>\n",
       "      <td>358.948607</td>\n",
       "    </tr>\n",
       "  </tbody>\n",
       "</table>\n",
       "</div>"
      ],
      "text/plain": [
       "                                                      Profit\n",
       "Product_Category Product_Sub_Category                       \n",
       "FURNITURE        BOOKCASES                       -177.683228\n",
       "                 CHAIRS & CHAIRMATS               387.693601\n",
       "                 OFFICE FURNISHINGS               127.446612\n",
       "                 TABLES                          -274.411357\n",
       "OFFICE SUPPLIES  APPLIANCES                       223.866498\n",
       "                 BINDERS AND BINDER ACCESSORIES   335.970918\n",
       "                 ENVELOPES                        195.864228\n",
       "                 LABELS                            47.490174\n",
       "                 PAPER                             36.949551\n",
       "                 PENS & ART SUPPLIES               11.950679\n",
       "                 RUBBER BANDS                      -0.573575\n",
       "                 SCISSORS, RULERS AND TRIMMERS    -54.161458\n",
       "                 STORAGE & ORGANIZATION            12.205403\n",
       "TECHNOLOGY       COMPUTER PERIPHERALS             124.389815\n",
       "                 COPIERS AND FAX                 1923.695287\n",
       "                 OFFICE MACHINES                  913.094748\n",
       "                 TELEPHONES AND COMMUNICATION     358.948607"
      ]
     },
     "execution_count": 19,
     "metadata": {},
     "output_type": "execute_result"
    }
   ],
   "source": [
    "# E.g.: Which product categories and sub-categories are the least profitable?\n",
    "# 1. Group by category and sub-category\n",
    "\n",
    "df_by_Cat_SubCat = master_df.groupby(['Product_Category','Product_Sub_Category'])\n",
    "pd.DataFrame(df_by_Cat_SubCat.Profit.mean())"
   ]
  },
  {
   "cell_type": "code",
   "execution_count": 51,
   "metadata": {},
   "outputs": [
    {
     "data": {
      "text/html": [
       "<div>\n",
       "<style scoped>\n",
       "    .dataframe tbody tr th:only-of-type {\n",
       "        vertical-align: middle;\n",
       "    }\n",
       "\n",
       "    .dataframe tbody tr th {\n",
       "        vertical-align: top;\n",
       "    }\n",
       "\n",
       "    .dataframe thead th {\n",
       "        text-align: right;\n",
       "    }\n",
       "</style>\n",
       "<table border=\"1\" class=\"dataframe\">\n",
       "  <thead>\n",
       "    <tr style=\"text-align: right;\">\n",
       "      <th></th>\n",
       "      <th>count</th>\n",
       "      <th>mean</th>\n",
       "      <th>std</th>\n",
       "      <th>min</th>\n",
       "      <th>25%</th>\n",
       "      <th>50%</th>\n",
       "      <th>75%</th>\n",
       "      <th>max</th>\n",
       "    </tr>\n",
       "    <tr>\n",
       "      <th>Product_Category</th>\n",
       "      <th></th>\n",
       "      <th></th>\n",
       "      <th></th>\n",
       "      <th></th>\n",
       "      <th></th>\n",
       "      <th></th>\n",
       "      <th></th>\n",
       "      <th></th>\n",
       "    </tr>\n",
       "  </thead>\n",
       "  <tbody>\n",
       "    <tr>\n",
       "      <th>FURNITURE</th>\n",
       "      <td>1724.0</td>\n",
       "      <td>68.116607</td>\n",
       "      <td>1112.923257</td>\n",
       "      <td>-11053.60</td>\n",
       "      <td>-281.3550</td>\n",
       "      <td>-14.250</td>\n",
       "      <td>187.1600</td>\n",
       "      <td>8614.79</td>\n",
       "    </tr>\n",
       "    <tr>\n",
       "      <th>OFFICE SUPPLIES</th>\n",
       "      <td>4610.0</td>\n",
       "      <td>112.369074</td>\n",
       "      <td>744.617939</td>\n",
       "      <td>-2175.09</td>\n",
       "      <td>-57.0225</td>\n",
       "      <td>-3.845</td>\n",
       "      <td>56.9475</td>\n",
       "      <td>11535.28</td>\n",
       "    </tr>\n",
       "    <tr>\n",
       "      <th>TECHNOLOGY</th>\n",
       "      <td>2065.0</td>\n",
       "      <td>429.207516</td>\n",
       "      <td>1863.208375</td>\n",
       "      <td>-14140.70</td>\n",
       "      <td>-88.9400</td>\n",
       "      <td>66.220</td>\n",
       "      <td>561.1300</td>\n",
       "      <td>27220.69</td>\n",
       "    </tr>\n",
       "  </tbody>\n",
       "</table>\n",
       "</div>"
      ],
      "text/plain": [
       "                   count        mean          std       min       25%     50%  \\\n",
       "Product_Category                                                                \n",
       "FURNITURE         1724.0   68.116607  1112.923257 -11053.60 -281.3550 -14.250   \n",
       "OFFICE SUPPLIES   4610.0  112.369074   744.617939  -2175.09  -57.0225  -3.845   \n",
       "TECHNOLOGY        2065.0  429.207516  1863.208375 -14140.70  -88.9400  66.220   \n",
       "\n",
       "                       75%       max  \n",
       "Product_Category                      \n",
       "FURNITURE         187.1600   8614.79  \n",
       "OFFICE SUPPLIES    56.9475  11535.28  \n",
       "TECHNOLOGY        561.1300  27220.69  "
      ]
     },
     "execution_count": 51,
     "metadata": {},
     "output_type": "execute_result"
    }
   ],
   "source": [
    "# df.discribe method\n",
    "df_by_catergory.Profit.describe()"
   ]
  },
  {
   "cell_type": "code",
   "execution_count": 21,
   "metadata": {},
   "outputs": [
    {
     "data": {
      "text/plain": [
       "Product_Category\n",
       "FURNITURE          1724\n",
       "OFFICE SUPPLIES    4610\n",
       "TECHNOLOGY         2065\n",
       "Name: Profit, dtype: int64"
      ]
     },
     "execution_count": 21,
     "metadata": {},
     "output_type": "execute_result"
    }
   ],
   "source": [
    "df_by_catergory.Profit.count()"
   ]
  },
  {
   "cell_type": "code",
   "execution_count": 26,
   "metadata": {},
   "outputs": [
    {
     "data": {
      "text/plain": [
       "Region\n",
       "ATLANTIC                -11769.17\n",
       "NORTHWEST TERRITORIES   -11053.60\n",
       "NUNAVUT                  -1766.01\n",
       "ONTARIO                  -6474.65\n",
       "PRARIE                  -11861.46\n",
       "QUEBEC                   -9611.91\n",
       "WEST                    -14140.70\n",
       "YUKON                    -9078.94\n",
       "Name: Profit, dtype: float64"
      ]
     },
     "execution_count": 26,
     "metadata": {},
     "output_type": "execute_result"
    }
   ],
   "source": [
    "master_df.groupby('Region').Profit.min()"
   ]
  },
  {
   "cell_type": "code",
   "execution_count": 28,
   "metadata": {},
   "outputs": [
    {
     "data": {
      "text/plain": [
       "Region\n",
       "ATLANTIC                 13.504305\n",
       "NORTHWEST TERRITORIES     5.369193\n",
       "NUNAVUT                   0.780233\n",
       "ONTARIO                  20.536970\n",
       "PRARIE                   19.022396\n",
       "QUEBEC                   10.124936\n",
       "WEST                     24.119372\n",
       "YUKON                     6.542595\n",
       "Name: Sales, dtype: float64"
      ]
     },
     "execution_count": 28,
     "metadata": {},
     "output_type": "execute_result"
    }
   ],
   "source": [
    "# Note that the resulting object is a Series, thus you can perform vectorised computations on them\n",
    "\n",
    "# E.g. Calculate the Sales across each region as a percentage of total Sales\n",
    "master_df.groupby('Region').Sales.sum()/sum(master_df.Sales)*100"
   ]
  },
  {
   "cell_type": "code",
   "execution_count": 55,
   "metadata": {},
   "outputs": [
    {
     "data": {
      "text/html": [
       "<div>\n",
       "<style scoped>\n",
       "    .dataframe tbody tr th:only-of-type {\n",
       "        vertical-align: middle;\n",
       "    }\n",
       "\n",
       "    .dataframe tbody tr th {\n",
       "        vertical-align: top;\n",
       "    }\n",
       "\n",
       "    .dataframe thead th {\n",
       "        text-align: right;\n",
       "    }\n",
       "</style>\n",
       "<table border=\"1\" class=\"dataframe\">\n",
       "  <thead>\n",
       "    <tr style=\"text-align: right;\">\n",
       "      <th></th>\n",
       "      <th>Profit</th>\n",
       "      <th>Sales</th>\n",
       "    </tr>\n",
       "    <tr>\n",
       "      <th>Product_Category</th>\n",
       "      <th></th>\n",
       "      <th></th>\n",
       "    </tr>\n",
       "  </thead>\n",
       "  <tbody>\n",
       "    <tr>\n",
       "      <th>FURNITURE</th>\n",
       "      <td>68.116607</td>\n",
       "      <td>3003.822820</td>\n",
       "    </tr>\n",
       "    <tr>\n",
       "      <th>OFFICE SUPPLIES</th>\n",
       "      <td>112.369074</td>\n",
       "      <td>814.048178</td>\n",
       "    </tr>\n",
       "    <tr>\n",
       "      <th>TECHNOLOGY</th>\n",
       "      <td>429.207516</td>\n",
       "      <td>2897.941008</td>\n",
       "    </tr>\n",
       "  </tbody>\n",
       "</table>\n",
       "</div>"
      ],
      "text/plain": [
       "                      Profit        Sales\n",
       "Product_Category                         \n",
       "FURNITURE          68.116607  3003.822820\n",
       "OFFICE SUPPLIES   112.369074   814.048178\n",
       "TECHNOLOGY        429.207516  2897.941008"
      ]
     },
     "execution_count": 55,
     "metadata": {},
     "output_type": "execute_result"
    }
   ],
   "source": [
    "df_by_catergory.agg({'Profit':'mean','Sales':'mean'})"
   ]
  },
  {
   "cell_type": "code",
   "execution_count": null,
   "metadata": {},
   "outputs": [],
   "source": []
  }
 ],
 "metadata": {
  "kernelspec": {
   "display_name": "Python 3",
   "language": "python",
   "name": "python3"
  },
  "language_info": {
   "codemirror_mode": {
    "name": "ipython",
    "version": 3
   },
   "file_extension": ".py",
   "mimetype": "text/x-python",
   "name": "python",
   "nbconvert_exporter": "python",
   "pygments_lexer": "ipython3",
   "version": "3.7.3"
  }
 },
 "nbformat": 4,
 "nbformat_minor": 2
}
