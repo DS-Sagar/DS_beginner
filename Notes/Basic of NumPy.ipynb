{
 "cells": [
  {
   "cell_type": "markdown",
   "metadata": {},
   "source": [
    "### NumPy Basics"
   ]
  },
  {
   "cell_type": "markdown",
   "metadata": {},
   "source": [
    "-  The most basic element of NumPy is `ndArray` or a simple `array`. which is **n-diamentional** and **homogenous** array. Basically al elements in NumPy array is the same data type which is integer or a float."
   ]
  },
  {
   "cell_type": "markdown",
   "metadata": {},
   "source": [
    "#### Import the NumPy library before use"
   ]
  },
  {
   "cell_type": "code",
   "execution_count": 1,
   "metadata": {},
   "outputs": [],
   "source": [
    "import numpy as np"
   ]
  },
  {
   "cell_type": "markdown",
   "metadata": {},
   "source": [
    "-  Creating the n-diamentional array using list"
   ]
  },
  {
   "cell_type": "code",
   "execution_count": 4,
   "metadata": {},
   "outputs": [
    {
     "name": "stdout",
     "output_type": "stream",
     "text": [
      "[1 2 3 4 5 6]\n"
     ]
    }
   ],
   "source": [
    "#1-D array uisng Numpy\n",
    "array_1d = np.array([1,2,3,4,5,6])\n",
    "print(array_1d)"
   ]
  },
  {
   "cell_type": "code",
   "execution_count": 5,
   "metadata": {},
   "outputs": [
    {
     "name": "stdout",
     "output_type": "stream",
     "text": [
      "[[1 2 3 4]\n",
      " [5 8 9 7]]\n"
     ]
    }
   ],
   "source": [
    "#2-D array using NumPy\n",
    "array_2d = np.array([[1,2,3,4],[5,8,9,7]])\n",
    "print(array_2d)"
   ]
  },
  {
   "cell_type": "markdown",
   "metadata": {},
   "source": [
    "-  In Numpy array diamentions are called `Axes`. In numpy 2-D array\n",
    "    -  `axis = 0` refers to a rows\n",
    "    -  `axis = 0` refers to a columns"
   ]
  },
  {
   "cell_type": "markdown",
   "metadata": {},
   "source": [
    "#### Advantages fo NumPy:"
   ]
  },
  {
   "cell_type": "markdown",
   "metadata": {},
   "source": [
    "-  You can write vectorised code using NumPy array but not on list, which is **convenient to read and write, and concise.**\n",
    "-  NumPy is much **faster** than convetional way of computations."
   ]
  },
  {
   "cell_type": "markdown",
   "metadata": {},
   "source": [
    "-  Say you have two lists of numbers, and want to calculate the element-wise product. The standard python list way would need you to map a lambda function (or worse - write a for loop), whereas with NumPy, you simply multiply the arrays."
   ]
  },
  {
   "cell_type": "code",
   "execution_count": 6,
   "metadata": {},
   "outputs": [
    {
     "name": "stdout",
     "output_type": "stream",
     "text": [
      "[12, 30, 7, 35]\n"
     ]
    }
   ],
   "source": [
    "list_1 = [3, 6, 7, 5]\n",
    "list_2 = [4, 5, 1, 7]\n",
    "\n",
    "# the list way to do it: map a function to the two lists\n",
    "product_list = list(map(lambda x, y: x*y, list_1, list_2))\n",
    "print(product_list)"
   ]
  },
  {
   "cell_type": "code",
   "execution_count": 7,
   "metadata": {},
   "outputs": [
    {
     "name": "stdout",
     "output_type": "stream",
     "text": [
      "[12 30  7 35]\n",
      "<class 'numpy.ndarray'>\n"
     ]
    }
   ],
   "source": [
    "# The numpy array way to do it: simply multiply the two arrays\n",
    "array_1 = np.array(list_1)\n",
    "array_2 = np.array(list_2)\n",
    "\n",
    "array_3 = array_1*array_2\n",
    "print(array_3)\n",
    "print(type(array_3))"
   ]
  },
  {
   "cell_type": "code",
   "execution_count": 8,
   "metadata": {},
   "outputs": [
    {
     "name": "stdout",
     "output_type": "stream",
     "text": [
      "[9, 36, 49, 25]\n",
      "[ 9 36 49 25]\n"
     ]
    }
   ],
   "source": [
    "# Square a list\n",
    "list_squared = [i**2 for i in list_1]\n",
    "\n",
    "# Square a numpy array\n",
    "array_squared = array_1**2\n",
    "\n",
    "print(list_squared)\n",
    "print(array_squared)"
   ]
  },
  {
   "cell_type": "markdown",
   "metadata": {},
   "source": [
    "### Creating NumPy array:"
   ]
  },
  {
   "cell_type": "markdown",
   "metadata": {},
   "source": [
    "There are multiple ways to create numpy arrays, the most commmon ones being:\n",
    "\n",
    "-  Convert lists or tuples to arrays using `np.array()`, as done above\n",
    "-  Initialise arrays of fixed size (when the size is known)."
   ]
  },
  {
   "cell_type": "code",
   "execution_count": 9,
   "metadata": {},
   "outputs": [
    {
     "name": "stdout",
     "output_type": "stream",
     "text": [
      "[1 2 3 4 5]\n",
      "[1 2 3 4 5]\n"
     ]
    }
   ],
   "source": [
    "# convert the list to a numpy array\n",
    "array_from_list = np.array([1,2,3,4,5])\n",
    "\n",
    "#convert the tupple to a numpy array\n",
    "array_from_tupple = np.array((1,2,3,4,5))\n",
    "\n",
    "print(array_from_list)\n",
    "print(array_from_tupple)"
   ]
  },
  {
   "cell_type": "markdown",
   "metadata": {},
   "source": [
    "-  Following ways are most commonly used:\n",
    "    -  `np.ones` : create array of 1\n",
    "    -  `np.zero` : create array of 0\n",
    "    -  `np.random.random()` : create array of random numbers\n",
    "    * ```np.arange()```: Create array with increments of a fixed step size\n",
    "    * ```np.linspace()```: Create array of fixed length<br><br>\n",
    "    \n",
    "-  Apart from the methods mentioned above, there are a few more NumPy functions that you can use to create special NumPy arrays:\n",
    "\n",
    "    -  `np.full()`: Create a constant array of any number ‘n’\n",
    "    -  `np.tile()`: Create a new array by repeating an existing array for a particular number of times\n",
    "    -  `np.eye()`: Create an identity matrix of any dimension\n",
    "    -  `np.random.randint()`: Create a random array of integers within a particular range"
   ]
  },
  {
   "cell_type": "code",
   "execution_count": 11,
   "metadata": {},
   "outputs": [
    {
     "name": "stdout",
     "output_type": "stream",
     "text": [
      "[[1. 1. 1.]\n",
      " [1. 1. 1.]]\n"
     ]
    }
   ],
   "source": [
    "print(np.ones((2,3)))"
   ]
  },
  {
   "cell_type": "markdown",
   "metadata": {},
   "source": [
    "-  when creating the numpy array it automatically intialized as float64. So, we have to explicitely provide the data type as given below."
   ]
  },
  {
   "cell_type": "code",
   "execution_count": 12,
   "metadata": {},
   "outputs": [
    {
     "name": "stdout",
     "output_type": "stream",
     "text": [
      "[[1 1 1]\n",
      " [1 1 1]\n",
      " [1 1 1]\n",
      " [1 1 1]]\n"
     ]
    }
   ],
   "source": [
    "print(np.ones((4,3), dtype = np.int))"
   ]
  },
  {
   "cell_type": "code",
   "execution_count": 14,
   "metadata": {},
   "outputs": [
    {
     "name": "stdout",
     "output_type": "stream",
     "text": [
      "[[0 0]\n",
      " [0 0]\n",
      " [0 0]\n",
      " [0 0]]\n"
     ]
    }
   ],
   "source": [
    "print(np.zeros((4,2), dtype = np.int))"
   ]
  },
  {
   "cell_type": "code",
   "execution_count": 16,
   "metadata": {},
   "outputs": [
    {
     "name": "stdout",
     "output_type": "stream",
     "text": [
      "[[0.70036603 0.05593119 0.8944478  0.21888885 0.36501228]\n",
      " [0.51737527 0.70202805 0.62815033 0.48027698 0.96874429]\n",
      " [0.72784574 0.60967535 0.87108255 0.74016306 0.87175379]]\n"
     ]
    }
   ],
   "source": [
    "print(np.random.random([3,5]))"
   ]
  },
  {
   "cell_type": "code",
   "execution_count": 17,
   "metadata": {},
   "outputs": [
    {
     "name": "stdout",
     "output_type": "stream",
     "text": [
      "[10 15 20 25 30 35 40 45 50 55 60 65 70 75 80 85 90 95]\n"
     ]
    }
   ],
   "source": [
    "# np.arange()\n",
    "# np.arange() is the numpy equivalent of range()\n",
    "# Notice that 10 is included, 100 is not, as in standard python lists\n",
    "\n",
    "# From 10 to 100 with a step of 5\n",
    "numbers = np.arange(10, 100, 5)\n",
    "print(numbers)"
   ]
  },
  {
   "cell_type": "code",
   "execution_count": 18,
   "metadata": {},
   "outputs": [
    {
     "data": {
      "text/plain": [
       "array([15.   , 15.125, 15.25 , 15.375, 15.5  , 15.625, 15.75 , 15.875,\n",
       "       16.   , 16.125, 16.25 , 16.375, 16.5  , 16.625, 16.75 , 16.875,\n",
       "       17.   , 17.125, 17.25 , 17.375, 17.5  , 17.625, 17.75 , 17.875,\n",
       "       18.   ])"
      ]
     },
     "execution_count": 18,
     "metadata": {},
     "output_type": "execute_result"
    }
   ],
   "source": [
    "# np.linspace()\n",
    "# Sometimes, you know the length of the array, not the step size\n",
    "\n",
    "# Array of length 25 between 15 and 18\n",
    "np.linspace(15, 18, 25)"
   ]
  },
  {
   "cell_type": "code",
   "execution_count": 19,
   "metadata": {},
   "outputs": [
    {
     "name": "stdout",
     "output_type": "stream",
     "text": [
      "[[2 2]\n",
      " [2 2]\n",
      " [2 2]]\n"
     ]
    }
   ],
   "source": [
    "#np.full function : it create array of give value in second postion and place this value at all the positions\n",
    "print(np.full((3,2),2))"
   ]
  },
  {
   "cell_type": "code",
   "execution_count": 21,
   "metadata": {},
   "outputs": [
    {
     "name": "stdout",
     "output_type": "stream",
     "text": [
      "[1 2 3 4 5 1 2 3 4 5]\n"
     ]
    }
   ],
   "source": [
    "#np.tile function :  it repeat given array with given number of times\n",
    "# np.tile((array), Number of times to repeat)\n",
    "print(np.tile(([1,2,3,4,5]),2))\n"
   ]
  },
  {
   "cell_type": "code",
   "execution_count": 24,
   "metadata": {},
   "outputs": [
    {
     "name": "stdout",
     "output_type": "stream",
     "text": [
      "[[1. 0. 0. 0. 0.]\n",
      " [0. 1. 0. 0. 0.]\n",
      " [0. 0. 1. 0. 0.]\n",
      " [0. 0. 0. 1. 0.]\n",
      " [0. 0. 0. 0. 1.]]\n"
     ]
    }
   ],
   "source": [
    "#np.eye() :  it return the array of 1's with diagonal and rest of 0's\n",
    "\n",
    "print(np.eye(5))"
   ]
  },
  {
   "cell_type": "code",
   "execution_count": 29,
   "metadata": {},
   "outputs": [
    {
     "name": "stdout",
     "output_type": "stream",
     "text": [
      "[ 5 10 15 20 25 30 35 40 45 50]\n"
     ]
    }
   ],
   "source": [
    "print(np.arange(5,55,5))"
   ]
  },
  {
   "cell_type": "code",
   "execution_count": 34,
   "metadata": {},
   "outputs": [
    {
     "name": "stdout",
     "output_type": "stream",
     "text": [
      "[[1 0 1 0]\n",
      " [1 0 1 0]]\n"
     ]
    }
   ],
   "source": [
    "print(np.tile(([1,0]),(2,2)))"
   ]
  },
  {
   "cell_type": "code",
   "execution_count": 4,
   "metadata": {},
   "outputs": [
    {
     "data": {
      "text/plain": [
       "array([[1, 0, 1, 0],\n",
       "       [0, 1, 0, 1],\n",
       "       [1, 0, 1, 0],\n",
       "       [0, 1, 0, 1]])"
      ]
     },
     "execution_count": 4,
     "metadata": {},
     "output_type": "execute_result"
    }
   ],
   "source": [
    "a = [[1,0],[0,1]]\n",
    "np.tile(a,(4//2,4//2))"
   ]
  },
  {
   "cell_type": "code",
   "execution_count": 51,
   "metadata": {},
   "outputs": [
    {
     "name": "stdout",
     "output_type": "stream",
     "text": [
      "(2, 4)\n",
      "2\n"
     ]
    }
   ],
   "source": [
    "list_1 = [10,11,12,13]\n",
    "list_2 = [15,12,13,14]\n",
    "\n",
    "array_1 = np.array((list_1+list_2)).reshape(2,4)\n",
    "print(array_1.shape)\n",
    "print(array_1.ndim)\n"
   ]
  },
  {
   "cell_type": "markdown",
   "metadata": {},
   "source": [
    "### Inspect the Structure and Content of Arrays"
   ]
  },
  {
   "cell_type": "markdown",
   "metadata": {},
   "source": [
    "-  following functions are helpfull to inspect the array of large ammount of data\n",
    "    -  `array.shape` : Give the shape of array(nXm)\n",
    "    -  `array.dtype` : data type of element of the array\n",
    "    -  `array.ndim`  : number of diamentions or axes of the array\n",
    "    -  `array.itemsize` : memory used by each array element in byte."
   ]
  },
  {
   "cell_type": "code",
   "execution_count": 55,
   "metadata": {},
   "outputs": [
    {
     "name": "stdout",
     "output_type": "stream",
     "text": [
      "[4.76913174e-01 1.36561876e-01 6.50835064e-01 7.03034067e-01\n",
      " 8.24210548e-02 8.03975225e-01 2.14963887e-01 5.08837016e-01\n",
      " 6.74630731e-01 6.76799424e-01 4.25741707e-01 9.59564847e-01\n",
      " 9.51941993e-01 3.32073584e-01 8.27775676e-01 6.05159008e-01\n",
      " 8.45509639e-01 5.07198715e-01 9.61485896e-01 1.16480395e-01\n",
      " 4.36144535e-01 3.07446760e-01 6.11531715e-01 5.01419776e-01\n",
      " 4.84326020e-01 5.93037946e-01 3.17505234e-01 6.91791237e-01\n",
      " 9.58098624e-01 9.15009848e-01 7.95075857e-01 6.08136905e-01\n",
      " 7.57987254e-01 3.27028020e-01 1.76549107e-01 8.20495047e-01\n",
      " 9.85359639e-02 7.61039295e-01 8.76612600e-01 7.13314245e-02\n",
      " 1.47246414e-01 6.24706672e-02 2.15764162e-01 8.20293522e-01\n",
      " 8.18873879e-01 7.21636050e-01 1.22704410e-01 6.52804200e-01\n",
      " 7.22496854e-01 1.65437852e-01 7.18434792e-01 6.65098164e-01\n",
      " 9.56735501e-01 9.39389677e-01 9.64292448e-01 7.27453527e-01\n",
      " 3.18931422e-01 6.31847380e-01 3.70529145e-01 9.62067449e-01\n",
      " 2.86864969e-01 3.77979768e-01 4.26187459e-01 2.76737915e-01\n",
      " 3.28485652e-01 1.92606366e-01 9.91341008e-01 3.82069341e-01\n",
      " 8.50727641e-01 2.53916736e-01 7.13797504e-01 8.18130921e-02\n",
      " 9.31713846e-02 2.90971766e-01 2.19938979e-01 7.03660443e-01\n",
      " 8.86835675e-01 5.67438721e-02 5.00598739e-01 6.04891415e-01\n",
      " 8.08871533e-02 3.03604416e-01 3.52862398e-01 2.93394672e-02\n",
      " 5.23069199e-01 6.57297009e-01 3.56963890e-01 6.67477106e-01\n",
      " 6.20201075e-01 7.95888258e-01 6.66561417e-01 9.17589987e-01\n",
      " 1.44578247e-01 2.98156826e-01 3.86124694e-01 3.36409328e-01\n",
      " 7.31332783e-04 2.03696631e-01 5.90986303e-01 4.34715855e-02\n",
      " 7.80168638e-02 7.30868033e-01 6.05853532e-01 2.27101296e-01\n",
      " 3.64429460e-01 9.43137459e-01 4.73012057e-01 5.11323296e-01\n",
      " 6.50750679e-01 2.51350550e-01 1.81027525e-01 5.45307169e-01\n",
      " 8.34488842e-02 2.50889941e-02 9.66465049e-01 5.88871743e-01\n",
      " 7.54346819e-01 9.09920049e-01 8.96606295e-01 2.02283874e-02\n",
      " 4.48718227e-01 5.04144386e-01 6.82819040e-01 8.42102063e-01\n",
      " 9.35528416e-01 2.31193897e-01 6.99114977e-01 8.93614050e-01\n",
      " 1.00519753e-01 8.49048573e-01 1.93212825e-01 3.22870463e-01\n",
      " 7.25268932e-01 3.02403482e-01 9.08029923e-02 5.28060282e-01\n",
      " 3.71389962e-01 7.98308512e-01 4.49935585e-02 8.09500604e-01\n",
      " 5.69890553e-01 5.76981283e-01 1.88046168e-01 5.89161845e-01\n",
      " 1.63775929e-01 1.74562934e-01 7.77843417e-01 2.24140431e-02\n",
      " 3.29498334e-01 8.18288095e-01 7.52177383e-01 7.27180026e-01\n",
      " 8.93554895e-01 8.13374811e-01 1.37149136e-01 7.47953008e-01\n",
      " 6.56725111e-01 9.29992229e-01 6.44189751e-01 7.62353304e-01\n",
      " 1.22606945e-01 7.74439089e-01 9.90247867e-01 1.74118831e-01\n",
      " 6.21578076e-01 3.74910784e-01 4.93606358e-01 5.93741217e-01\n",
      " 5.04318925e-01 7.05829742e-01 7.15344100e-01 1.64399930e-01\n",
      " 2.51893963e-01 8.68031844e-01 8.32065308e-01 1.01986225e-01\n",
      " 3.82271350e-01 5.87101460e-01 6.68544004e-01 5.16940198e-01\n",
      " 7.85178310e-01 7.52469580e-02 5.67968496e-01 7.69761504e-02\n",
      " 7.86105013e-01 8.14145392e-01 4.40701773e-01 4.06825294e-01\n",
      " 1.36605235e-02 4.30707433e-01 9.40264108e-01 4.76038209e-01\n",
      " 5.89032181e-01 4.76795015e-02 3.98440372e-01 6.18559483e-01\n",
      " 7.04278152e-02 1.48577563e-01 7.65544388e-01 8.91785767e-01]\n"
     ]
    }
   ],
   "source": [
    "# print aray of random number of size(1000,200)\n",
    "\n",
    "array_1 = np.random.random((1000,200))\n",
    "print(array_1[0,])"
   ]
  },
  {
   "cell_type": "code",
   "execution_count": 65,
   "metadata": {},
   "outputs": [
    {
     "name": "stdout",
     "output_type": "stream",
     "text": [
      "shape of the array is:    (1000, 200)\n",
      "diamentions of the array: 2\n",
      "itemsize of the array:    8\n",
      "data type of the array:   float64\n"
     ]
    }
   ],
   "source": [
    "print(\"shape of the array is:    {}\". format(array_1.shape))\n",
    "print(\"diamentions of the array: {}\". format(array_1.ndim))\n",
    "print(\"itemsize of the array:    {}\". format(array_1.itemsize))\n",
    "print(\"data type of the array:   {}\". format(array_1.dtype))"
   ]
  },
  {
   "cell_type": "markdown",
   "metadata": {},
   "source": [
    "Reading 3-D arrays is not very obvious, because we can only print maximum two dimensions on paper, and thus they are printed according to a specific convention. Printing higher dimensional arrays follows the following conventions:\n",
    "* The last axis is printed from left to right\n",
    "* The second-to-last axis is printed from top to bottom\n",
    "* The other axes are also printed top-to-bottom, with each slice separated by another using an empty line \n",
    "\n",
    "Let's see some examples."
   ]
  },
  {
   "cell_type": "code",
   "execution_count": 66,
   "metadata": {},
   "outputs": [
    {
     "name": "stdout",
     "output_type": "stream",
     "text": [
      "[[[ 0  1  2  3]\n",
      "  [ 4  5  6  7]\n",
      "  [ 8  9 10 11]]\n",
      "\n",
      " [[12 13 14 15]\n",
      "  [16 17 18 19]\n",
      "  [20 21 22 23]]]\n"
     ]
    }
   ],
   "source": [
    "print(np.arange(24).reshape(2,3,4))"
   ]
  },
  {
   "cell_type": "markdown",
   "metadata": {},
   "source": [
    "### Subset, Slice, Index and Iterate through Arrays\n",
    "\n",
    "For **one-dimensional arrays**, indexing, slicing etc. is **similar to python lists** - indexing starts at 0."
   ]
  },
  {
   "cell_type": "code",
   "execution_count": 5,
   "metadata": {},
   "outputs": [
    {
     "name": "stdout",
     "output_type": "stream",
     "text": [
      "[1 3 4 7 5 2]\n"
     ]
    }
   ],
   "source": [
    "array_1 = np.array([1,2,3,5,4,6,7,8,5,3,2])\n",
    "print(array_1[0::2])"
   ]
  },
  {
   "cell_type": "code",
   "execution_count": 7,
   "metadata": {},
   "outputs": [
    {
     "name": "stdout",
     "output_type": "stream",
     "text": [
      "[0 1 2 3 4 5 6 7 8 9]\n"
     ]
    }
   ],
   "source": [
    "# Indexing and slicing one dimensional arrays\n",
    "array_1d = np.arange(10)\n",
    "print(array_1d)"
   ]
  },
  {
   "cell_type": "code",
   "execution_count": 11,
   "metadata": {},
   "outputs": [
    {
     "name": "stdout",
     "output_type": "stream",
     "text": [
      "2\n",
      "[2 5 1]\n",
      "[2 3 4 5 6 7 8 9]\n",
      "[0 1 2]\n",
      "[2 3 4 5 6]\n",
      "[0 2 4 6 8]\n"
     ]
    }
   ],
   "source": [
    "# Third element\n",
    "print(array_1d[2])\n",
    "\n",
    "# Specific elements\n",
    "# Notice that array[2, 5, 6] will throw an error, you need to provide the indices as a list\n",
    "print(array_1d[[2, 5, 1]])\n",
    "\n",
    "# Slice third element onwards\n",
    "print(array_1d[2:])\n",
    "\n",
    "# Slice first three elements\n",
    "print(array_1d[:3])\n",
    "\n",
    "# Slice third to seventh elements\n",
    "print(array_1d[2:7])\n",
    "\n",
    "# Subset starting 0 at increment of 2 \n",
    "print(array_1d[0::2])"
   ]
  },
  {
   "cell_type": "code",
   "execution_count": 13,
   "metadata": {},
   "outputs": [
    {
     "name": "stdout",
     "output_type": "stream",
     "text": [
      "0\n",
      "1\n",
      "4\n",
      "9\n",
      "16\n",
      "25\n",
      "36\n",
      "49\n",
      "64\n",
      "81\n"
     ]
    }
   ],
   "source": [
    "# Iterations are also similar to lists\n",
    "for a in array_1d:\n",
    "    print(a**2)"
   ]
  },
  {
   "cell_type": "markdown",
   "metadata": {},
   "source": [
    "### Multidimesional Array:"
   ]
  },
  {
   "cell_type": "markdown",
   "metadata": {},
   "source": [
    "-  Multidimensional array are indexed using the as many indices as number of diamentions or axes\n",
    "-  For 2-D array we reuired `array[x,y]` indexes\n",
    "-  Each axes is start from 0"
   ]
  },
  {
   "cell_type": "markdown",
   "metadata": {},
   "source": [
    "-  Creating the 2-D array"
   ]
  },
  {
   "cell_type": "code",
   "execution_count": 4,
   "metadata": {},
   "outputs": [
    {
     "name": "stdout",
     "output_type": "stream",
     "text": [
      "[[1 2 3 4]\n",
      " [5 6 7 8]\n",
      " [9 8 7 6]]\n"
     ]
    }
   ],
   "source": [
    "array_2D = np.array([[1,2,3,4],[5,6,7,8],[9,8,7,6]])\n",
    "print(array_2D)"
   ]
  },
  {
   "cell_type": "code",
   "execution_count": 24,
   "metadata": {},
   "outputs": [
    {
     "name": "stdout",
     "output_type": "stream",
     "text": [
      "[[1, 2, 3, 4], [5, 6, 7, 8], [9, 8, 7, 6]]\n"
     ]
    }
   ],
   "source": [
    "test_list = [[1,2,3,4],[5,6,7,8],[9,8,7,6]]\n",
    "print(test_list)"
   ]
  },
  {
   "cell_type": "markdown",
   "metadata": {},
   "source": [
    "-  Access and slice elements of 2-D array"
   ]
  },
  {
   "cell_type": "code",
   "execution_count": 5,
   "metadata": {},
   "outputs": [
    {
     "name": "stdout",
     "output_type": "stream",
     "text": [
      "7\n"
     ]
    }
   ],
   "source": [
    "# this prints the element of 3rd row and 3rd column \n",
    "print(array_2D[2,2])"
   ]
  },
  {
   "cell_type": "code",
   "execution_count": 18,
   "metadata": {},
   "outputs": [
    {
     "name": "stdout",
     "output_type": "stream",
     "text": [
      "[2 6 8]\n"
     ]
    }
   ],
   "source": [
    "#it prints the elements of full 2nd row \n",
    "print(array_2D[:,1])"
   ]
  },
  {
   "cell_type": "code",
   "execution_count": 13,
   "metadata": {},
   "outputs": [
    {
     "name": "stdout",
     "output_type": "stream",
     "text": [
      "[3 7 7]\n"
     ]
    }
   ],
   "source": [
    "# it print all column in 3rd row\n",
    "print(array_2D[:,2])"
   ]
  },
  {
   "cell_type": "code",
   "execution_count": 15,
   "metadata": {},
   "outputs": [
    {
     "name": "stdout",
     "output_type": "stream",
     "text": [
      "[[5 6]\n",
      " [9 8]]\n"
     ]
    }
   ],
   "source": [
    "# below code print the 1th to last column of 2nd to last row\n",
    "print(array_2D[1:,:2])"
   ]
  },
  {
   "cell_type": "code",
   "execution_count": 17,
   "metadata": {},
   "outputs": [
    {
     "name": "stdout",
     "output_type": "stream",
     "text": [
      "1\n",
      "2\n",
      "3\n",
      "4\n",
      "5\n",
      "6\n",
      "7\n",
      "8\n",
      "9\n",
      "8\n",
      "7\n",
      "6\n"
     ]
    }
   ],
   "source": [
    "for row in array_2D:\n",
    "    for col in row:\n",
    "        print(col)"
   ]
  },
  {
   "cell_type": "code",
   "execution_count": 56,
   "metadata": {},
   "outputs": [
    {
     "name": "stdout",
     "output_type": "stream",
     "text": [
      "[[1]\n",
      " [2]\n",
      " [3]\n",
      " [4]\n",
      " [5]]\n"
     ]
    }
   ],
   "source": [
    "array = np.array([[1],\n",
    " [2],\n",
    " [3],\n",
    " [4],\n",
    " [5]])\n",
    "print(array)\n"
   ]
  },
  {
   "cell_type": "code",
   "execution_count": 61,
   "metadata": {},
   "outputs": [
    {
     "name": "stdout",
     "output_type": "stream",
     "text": [
      "[1 2 3 4 5]\n",
      "[1]\n",
      "[1 2 3 4 5]\n",
      "[5]\n",
      "[[1]\n",
      " [2]\n",
      " [3]\n",
      " [4]\n",
      " [5]]\n",
      "[5]\n"
     ]
    }
   ],
   "source": [
    "print(array[:,0])\n",
    "print(array[0,:])\n",
    "print(array[:,-1])\n",
    "print(array[-1,:])\n",
    "\n",
    "print((array[:,-1:]))\n",
    "print((array[-1:,:])[0])"
   ]
  },
  {
   "cell_type": "code",
   "execution_count": 14,
   "metadata": {},
   "outputs": [
    {
     "data": {
      "text/plain": [
       "array([[0.16884441, 0.40014835, 0.79942942, 0.49244846, 0.32690845,\n",
       "        0.2293067 , 0.91801727, 0.10505764, 0.90940533, 0.52612325,\n",
       "        0.42827235, 0.83689013],\n",
       "       [0.35994314, 0.26081342, 0.93368861, 0.48766715, 0.67385545,\n",
       "        0.4581962 , 0.15737589, 0.61057552, 0.35773349, 0.55033701,\n",
       "        0.77338028, 0.74019293],\n",
       "       [0.16125448, 0.3154995 , 0.23199676, 0.73959356, 0.50496812,\n",
       "        0.16251132, 0.22478063, 0.27009794, 0.63502203, 0.76702446,\n",
       "        0.26309352, 0.89061889],\n",
       "       [0.4697855 , 0.69935247, 0.33288193, 0.47354069, 0.00103809,\n",
       "        0.2175661 , 0.10047827, 0.33358775, 0.56637786, 0.38117828,\n",
       "        0.41720792, 0.04023318],\n",
       "       [0.37938607, 0.37171657, 0.77171919, 0.6053494 , 0.52981956,\n",
       "        0.13396685, 0.51497044, 0.20508786, 0.58788921, 0.96826832,\n",
       "        0.91777341, 0.17074427],\n",
       "       [0.77222404, 0.84814809, 0.175792  , 0.33275123, 0.80151358,\n",
       "        0.9376315 , 0.10159564, 0.02288698, 0.59131199, 0.30133725,\n",
       "        0.71124928, 0.64880935],\n",
       "       [0.65958493, 0.0599824 , 0.2266357 , 0.37916328, 0.57595114,\n",
       "        0.29008023, 0.23511908, 0.50820953, 0.84405749, 0.23129076,\n",
       "        0.23018613, 0.12229896],\n",
       "       [0.37646831, 0.47995876, 0.17368184, 0.02401471, 0.65523669,\n",
       "        0.3227772 , 0.35745104, 0.17046992, 0.77271098, 0.90983903,\n",
       "        0.81671739, 0.57961053],\n",
       "       [0.93535716, 0.58188126, 0.81340734, 0.178274  , 0.12024362,\n",
       "        0.96477738, 0.8792175 , 0.3297477 , 0.55012632, 0.45102372,\n",
       "        0.47539592, 0.20985487],\n",
       "       [0.89438095, 0.59035777, 0.32126798, 0.91325269, 0.87696867,\n",
       "        0.75747371, 0.48599624, 0.56841556, 0.39290428, 0.17562621,\n",
       "        0.59143836, 0.54630631],\n",
       "       [0.62643038, 0.95345398, 0.13516195, 0.46744089, 0.07097291,\n",
       "        0.63515278, 0.44871329, 0.5828408 , 0.34969104, 0.10172137,\n",
       "        0.28497792, 0.24109471]])"
      ]
     },
     "execution_count": 14,
     "metadata": {},
     "output_type": "execute_result"
    }
   ],
   "source": [
    "import numpy as np\n",
    "\n",
    "array_1 = np.random.random((11,12))\n",
    "array_1"
   ]
  },
  {
   "cell_type": "code",
   "execution_count": 12,
   "metadata": {},
   "outputs": [
    {
     "data": {
      "text/plain": [
       "(8, 3)"
      ]
     },
     "execution_count": 12,
     "metadata": {},
     "output_type": "execute_result"
    }
   ],
   "source": [
    "np.unravel_index(99, (11,12)) "
   ]
  },
  {
   "cell_type": "code",
   "execution_count": 19,
   "metadata": {},
   "outputs": [
    {
     "name": "stdout",
     "output_type": "stream",
     "text": [
      "[[0.16884441 0.40014835 0.79942942]\n",
      " [0.35994314 0.26081342 0.93368861]\n",
      " [0.16125448 0.3154995  0.23199676]\n",
      " [0.4697855  0.69935247 0.33288193]\n",
      " [0.37938607 0.37171657 0.77171919]\n",
      " [0.77222404 0.84814809 0.175792  ]\n",
      " [0.65958493 0.0599824  0.2266357 ]\n",
      " [0.37646831 0.47995876 0.17368184]\n",
      " [0.93535716 0.58188126 0.81340734]\n",
      " [0.89438095 0.59035777 0.32126798]\n",
      " [0.62643038 0.95345398 0.13516195]]\n"
     ]
    }
   ],
   "source": [
    "print(array_1[:,:3])"
   ]
  },
  {
   "cell_type": "code",
   "execution_count": 39,
   "metadata": {},
   "outputs": [
    {
     "name": "stdout",
     "output_type": "stream",
     "text": [
      "[[4 3 1]\n",
      " [5 7 0]\n",
      " [9 9 3]\n",
      " [8 2 4]]\n"
     ]
    }
   ],
   "source": [
    "a = np.array([[4, 3, 1], [5, 7, 0], [9, 9, 3], [8, 2, 4]])\n",
    "print(a)"
   ]
  },
  {
   "cell_type": "code",
   "execution_count": 41,
   "metadata": {},
   "outputs": [
    {
     "name": "stdout",
     "output_type": "stream",
     "text": [
      "[[4 3 1]\n",
      " [9 9 3]\n",
      " [9 9 3]\n",
      " [8 2 4]]\n"
     ]
    }
   ],
   "source": [
    "a_swap = a[2]\n",
    "a[2] = a[1]\n",
    "a[1] = a_swap\n",
    "print(a)"
   ]
  },
  {
   "cell_type": "code",
   "execution_count": 92,
   "metadata": {},
   "outputs": [
    {
     "name": "stdout",
     "output_type": "stream",
     "text": [
      "[[1 1 1 1 1 1 1]\n",
      " [1 0 0 0 0 0 1]\n",
      " [1 0 0 0 0 0 1]\n",
      " [1 0 0 0 0 0 1]\n",
      " [1 0 0 0 0 0 1]\n",
      " [1 0 0 0 0 0 1]\n",
      " [1 1 1 1 1 1 1]]\n"
     ]
    }
   ],
   "source": [
    "n=7\n",
    "a = np.zeros((n,n), dtype = np.int)\n",
    "a[0:1,:] = 1\n",
    "a[-1:,:] = 1\n",
    "a[:,0:1] = 1\n",
    "a[:,-1:] = 1\n",
    "print(a)"
   ]
  },
  {
   "cell_type": "code",
   "execution_count": 103,
   "metadata": {},
   "outputs": [
    {
     "data": {
      "text/plain": [
       "array([[1, 1, 1, 1],\n",
       "       [1, 0, 0, 1],\n",
       "       [1, 0, 0, 1],\n",
       "       [1, 1, 1, 1]])"
      ]
     },
     "execution_count": 103,
     "metadata": {},
     "output_type": "execute_result"
    }
   ],
   "source": [
    "n=4\n",
    "a = np.ones((n,n), dtype = np.int)\n",
    "a[1:-1,1:-1] = 0 \n",
    "a"
   ]
  },
  {
   "cell_type": "code",
   "execution_count": 6,
   "metadata": {},
   "outputs": [
    {
     "ename": "TypeError",
     "evalue": "ravel() missing 1 required positional argument: 'a'",
     "output_type": "error",
     "traceback": [
      "\u001b[1;31m---------------------------------------------------------------------------\u001b[0m",
      "\u001b[1;31mTypeError\u001b[0m                                 Traceback (most recent call last)",
      "\u001b[1;32m<ipython-input-6-9e79d3dd23dc>\u001b[0m in \u001b[0;36m<module>\u001b[1;34m\u001b[0m\n\u001b[0;32m      5\u001b[0m \u001b[0marr2\u001b[0m \u001b[1;33m=\u001b[0m \u001b[0mnp\u001b[0m\u001b[1;33m.\u001b[0m\u001b[0marray\u001b[0m\u001b[1;33m(\u001b[0m\u001b[0mlist_2\u001b[0m\u001b[1;33m)\u001b[0m\u001b[1;33m\u001b[0m\u001b[1;33m\u001b[0m\u001b[0m\n\u001b[0;32m      6\u001b[0m \u001b[1;33m\u001b[0m\u001b[0m\n\u001b[1;32m----> 7\u001b[1;33m \u001b[0marr3\u001b[0m \u001b[1;33m=\u001b[0m \u001b[0mnp\u001b[0m\u001b[1;33m.\u001b[0m\u001b[0mravel\u001b[0m\u001b[1;33m(\u001b[0m\u001b[1;33m)\u001b[0m\u001b[1;33m\u001b[0m\u001b[1;33m\u001b[0m\u001b[0m\n\u001b[0m",
      "\u001b[1;31mTypeError\u001b[0m: ravel() missing 1 required positional argument: 'a'"
     ]
    }
   ],
   "source": [
    "list_1 = [2,3,4,5] \n",
    "list_2 = [7,8,9,6] \n",
    "\n",
    "arr1 = np.array(list_1)\n",
    "arr2 = np.array(list_2)\n",
    "\n",
    "arr3 = np.ravel()"
   ]
  },
  {
   "cell_type": "code",
   "execution_count": 5,
   "metadata": {},
   "outputs": [
    {
     "data": {
      "text/plain": [
       "array([[1, 1, 1],\n",
       "       [1, 1, 1]])"
      ]
     },
     "execution_count": 5,
     "metadata": {},
     "output_type": "execute_result"
    }
   ],
   "source": [
    "rows_m = 2\n",
    "cols_n =3\n",
    "array_x = np.ones((rows_m,cols_n),dtype = np.int)\n",
    "array_x"
   ]
  },
  {
   "cell_type": "code",
   "execution_count": 7,
   "metadata": {},
   "outputs": [
    {
     "data": {
      "text/plain": [
       "array([[1, 1, 1],\n",
       "       [1, 1, 1]])"
      ]
     },
     "execution_count": 7,
     "metadata": {},
     "output_type": "execute_result"
    }
   ],
   "source": [
    "int_x = 1\n",
    "rows_m = 2\n",
    "cols_n =3\n",
    "array_x = np.full((rows_m,cols_n),int_x,dtype = np.int)\n",
    "array_x"
   ]
  },
  {
   "cell_type": "code",
   "execution_count": 6,
   "metadata": {},
   "outputs": [
    {
     "name": "stdout",
     "output_type": "stream",
     "text": [
      "[[0 1 0 1 0 1 0 1]\n",
      " [0 1 0 1 0 1 0 1]\n",
      " [0 1 0 1 0 1 0 1]\n",
      " [0 1 0 1 0 1 0 1]]\n"
     ]
    }
   ],
   "source": [
    "import numpy as np\n",
    "n = 4\n",
    "array1 = np.tile([0,1],(n,n))\n",
    "print (array1)"
   ]
  },
  {
   "cell_type": "code",
   "execution_count": 3,
   "metadata": {},
   "outputs": [
    {
     "data": {
      "text/plain": [
       "array([[1, 0, 1, 0],\n",
       "       [0, 1, 0, 1],\n",
       "       [1, 0, 1, 0],\n",
       "       [0, 1, 0, 1]])"
      ]
     },
     "execution_count": 3,
     "metadata": {},
     "output_type": "execute_result"
    }
   ],
   "source": [
    "a = [[1,0],[0,1]]\n",
    "np.tile(a,(4//2,4//2))"
   ]
  },
  {
   "cell_type": "code",
   "execution_count": 7,
   "metadata": {},
   "outputs": [
    {
     "ename": "AttributeError",
     "evalue": "module 'numpy' has no attribute 'tiles'",
     "output_type": "error",
     "traceback": [
      "\u001b[1;31m---------------------------------------------------------------------------\u001b[0m",
      "\u001b[1;31mAttributeError\u001b[0m                            Traceback (most recent call last)",
      "\u001b[1;32m<ipython-input-7-27be7956c40a>\u001b[0m in \u001b[0;36m<module>\u001b[1;34m\u001b[0m\n\u001b[1;32m----> 1\u001b[1;33m \u001b[0mhelp\u001b[0m\u001b[1;33m(\u001b[0m\u001b[0mnp\u001b[0m\u001b[1;33m.\u001b[0m\u001b[0mtiles\u001b[0m\u001b[1;33m)\u001b[0m\u001b[1;33m\u001b[0m\u001b[1;33m\u001b[0m\u001b[0m\n\u001b[0m",
      "\u001b[1;31mAttributeError\u001b[0m: module 'numpy' has no attribute 'tiles'"
     ]
    }
   ],
   "source": [
    "help(np.tiles)"
   ]
  },
  {
   "cell_type": "code",
   "execution_count": null,
   "metadata": {},
   "outputs": [],
   "source": []
  }
 ],
 "metadata": {
  "kernelspec": {
   "display_name": "Python 3",
   "language": "python",
   "name": "python3"
  },
  "language_info": {
   "codemirror_mode": {
    "name": "ipython",
    "version": 3
   },
   "file_extension": ".py",
   "mimetype": "text/x-python",
   "name": "python",
   "nbconvert_exporter": "python",
   "pygments_lexer": "ipython3",
   "version": "3.7.3"
  }
 },
 "nbformat": 4,
 "nbformat_minor": 2
}
